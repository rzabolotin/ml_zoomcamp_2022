{
 "cells": [
  {
   "cell_type": "code",
   "execution_count": 2,
   "id": "37a1a2ee",
   "metadata": {},
   "outputs": [],
   "source": [
    "import pandas as pd\n",
    "import numpy as np\n",
    "import seaborn as sns\n",
    "from sklearn.model_selection import train_test_split"
   ]
  },
  {
   "cell_type": "code",
   "execution_count": 3,
   "id": "50830c1a",
   "metadata": {},
   "outputs": [],
   "source": [
    "PATH = \"https://raw.githubusercontent.com/alexeygrigorev/datasets/master/AER_credit_card_data.csv\""
   ]
  },
  {
   "cell_type": "code",
   "execution_count": 4,
   "id": "14cdadd5",
   "metadata": {},
   "outputs": [
    {
     "data": {
      "text/html": [
       "<div>\n",
       "<style scoped>\n",
       "    .dataframe tbody tr th:only-of-type {\n",
       "        vertical-align: middle;\n",
       "    }\n",
       "\n",
       "    .dataframe tbody tr th {\n",
       "        vertical-align: top;\n",
       "    }\n",
       "\n",
       "    .dataframe thead th {\n",
       "        text-align: right;\n",
       "    }\n",
       "</style>\n",
       "<table border=\"1\" class=\"dataframe\">\n",
       "  <thead>\n",
       "    <tr style=\"text-align: right;\">\n",
       "      <th></th>\n",
       "      <th>card</th>\n",
       "      <th>reports</th>\n",
       "      <th>age</th>\n",
       "      <th>income</th>\n",
       "      <th>share</th>\n",
       "      <th>expenditure</th>\n",
       "      <th>owner</th>\n",
       "      <th>selfemp</th>\n",
       "      <th>dependents</th>\n",
       "      <th>months</th>\n",
       "      <th>majorcards</th>\n",
       "      <th>active</th>\n",
       "    </tr>\n",
       "  </thead>\n",
       "  <tbody>\n",
       "    <tr>\n",
       "      <th>0</th>\n",
       "      <td>yes</td>\n",
       "      <td>0</td>\n",
       "      <td>37.66667</td>\n",
       "      <td>4.5200</td>\n",
       "      <td>0.033270</td>\n",
       "      <td>124.983300</td>\n",
       "      <td>yes</td>\n",
       "      <td>no</td>\n",
       "      <td>3</td>\n",
       "      <td>54</td>\n",
       "      <td>1</td>\n",
       "      <td>12</td>\n",
       "    </tr>\n",
       "    <tr>\n",
       "      <th>1</th>\n",
       "      <td>yes</td>\n",
       "      <td>0</td>\n",
       "      <td>33.25000</td>\n",
       "      <td>2.4200</td>\n",
       "      <td>0.005217</td>\n",
       "      <td>9.854167</td>\n",
       "      <td>no</td>\n",
       "      <td>no</td>\n",
       "      <td>3</td>\n",
       "      <td>34</td>\n",
       "      <td>1</td>\n",
       "      <td>13</td>\n",
       "    </tr>\n",
       "    <tr>\n",
       "      <th>2</th>\n",
       "      <td>yes</td>\n",
       "      <td>0</td>\n",
       "      <td>33.66667</td>\n",
       "      <td>4.5000</td>\n",
       "      <td>0.004156</td>\n",
       "      <td>15.000000</td>\n",
       "      <td>yes</td>\n",
       "      <td>no</td>\n",
       "      <td>4</td>\n",
       "      <td>58</td>\n",
       "      <td>1</td>\n",
       "      <td>5</td>\n",
       "    </tr>\n",
       "    <tr>\n",
       "      <th>3</th>\n",
       "      <td>yes</td>\n",
       "      <td>0</td>\n",
       "      <td>30.50000</td>\n",
       "      <td>2.5400</td>\n",
       "      <td>0.065214</td>\n",
       "      <td>137.869200</td>\n",
       "      <td>no</td>\n",
       "      <td>no</td>\n",
       "      <td>0</td>\n",
       "      <td>25</td>\n",
       "      <td>1</td>\n",
       "      <td>7</td>\n",
       "    </tr>\n",
       "    <tr>\n",
       "      <th>4</th>\n",
       "      <td>yes</td>\n",
       "      <td>0</td>\n",
       "      <td>32.16667</td>\n",
       "      <td>9.7867</td>\n",
       "      <td>0.067051</td>\n",
       "      <td>546.503300</td>\n",
       "      <td>yes</td>\n",
       "      <td>no</td>\n",
       "      <td>2</td>\n",
       "      <td>64</td>\n",
       "      <td>1</td>\n",
       "      <td>5</td>\n",
       "    </tr>\n",
       "  </tbody>\n",
       "</table>\n",
       "</div>"
      ],
      "text/plain": [
       "  card  reports       age  income     share  expenditure owner selfemp  \\\n",
       "0  yes        0  37.66667  4.5200  0.033270   124.983300   yes      no   \n",
       "1  yes        0  33.25000  2.4200  0.005217     9.854167    no      no   \n",
       "2  yes        0  33.66667  4.5000  0.004156    15.000000   yes      no   \n",
       "3  yes        0  30.50000  2.5400  0.065214   137.869200    no      no   \n",
       "4  yes        0  32.16667  9.7867  0.067051   546.503300   yes      no   \n",
       "\n",
       "   dependents  months  majorcards  active  \n",
       "0           3      54           1      12  \n",
       "1           3      34           1      13  \n",
       "2           4      58           1       5  \n",
       "3           0      25           1       7  \n",
       "4           2      64           1       5  "
      ]
     },
     "execution_count": 4,
     "metadata": {},
     "output_type": "execute_result"
    }
   ],
   "source": [
    "df = pd.read_csv(PATH)\n",
    "df.head()"
   ]
  },
  {
   "cell_type": "code",
   "execution_count": 5,
   "id": "2842ea57",
   "metadata": {},
   "outputs": [],
   "source": [
    "df.card = (df.card == \"yes\").astype(int)"
   ]
  },
  {
   "cell_type": "markdown",
   "id": "3ee0dfbb",
   "metadata": {},
   "source": [
    "# split df to train/val/test"
   ]
  },
  {
   "cell_type": "code",
   "execution_count": 31,
   "id": "c0ceaf89",
   "metadata": {},
   "outputs": [],
   "source": [
    "df_full_train, df_test = train_test_split(df, random_state=1, test_size=0.2)"
   ]
  },
  {
   "cell_type": "code",
   "execution_count": 32,
   "id": "5b60a765",
   "metadata": {},
   "outputs": [],
   "source": [
    "df_train, df_val = train_test_split(df_full_train, random_state=1, test_size=0.25)"
   ]
  },
  {
   "cell_type": "code",
   "execution_count": 8,
   "id": "1f4ee8a0",
   "metadata": {},
   "outputs": [
    {
     "data": {
      "text/plain": [
       "((791, 12), (264, 12), (264, 12))"
      ]
     },
     "execution_count": 8,
     "metadata": {},
     "output_type": "execute_result"
    }
   ],
   "source": [
    "df_train.shape, df_val.shape, df_test.shape"
   ]
  },
  {
   "cell_type": "markdown",
   "id": "f29e9c7b",
   "metadata": {},
   "source": [
    "# Q1 highest ROC AUC"
   ]
  },
  {
   "cell_type": "code",
   "execution_count": 9,
   "id": "f6f2cb00",
   "metadata": {},
   "outputs": [],
   "source": [
    "from sklearn.metrics import roc_auc_score"
   ]
  },
  {
   "cell_type": "code",
   "execution_count": 10,
   "id": "cc019c63",
   "metadata": {},
   "outputs": [
    {
     "name": "stdout",
     "output_type": "stream",
     "text": [
      "<class 'pandas.core.frame.DataFrame'>\n",
      "RangeIndex: 1319 entries, 0 to 1318\n",
      "Data columns (total 12 columns):\n",
      " #   Column       Non-Null Count  Dtype  \n",
      "---  ------       --------------  -----  \n",
      " 0   card         1319 non-null   int32  \n",
      " 1   reports      1319 non-null   int64  \n",
      " 2   age          1319 non-null   float64\n",
      " 3   income       1319 non-null   float64\n",
      " 4   share        1319 non-null   float64\n",
      " 5   expenditure  1319 non-null   float64\n",
      " 6   owner        1319 non-null   object \n",
      " 7   selfemp      1319 non-null   object \n",
      " 8   dependents   1319 non-null   int64  \n",
      " 9   months       1319 non-null   int64  \n",
      " 10  majorcards   1319 non-null   int64  \n",
      " 11  active       1319 non-null   int64  \n",
      "dtypes: float64(4), int32(1), int64(5), object(2)\n",
      "memory usage: 118.6+ KB\n"
     ]
    }
   ],
   "source": [
    "df.info()"
   ]
  },
  {
   "cell_type": "code",
   "execution_count": 11,
   "id": "f85772da",
   "metadata": {},
   "outputs": [],
   "source": [
    "numerical = [\n",
    "    'reports',\n",
    "    'age',\n",
    "    'income',\n",
    "    'share',\n",
    "    'expenditure',\n",
    "    'dependents',\n",
    "    'months',\n",
    "    'majorcards',\n",
    "    'active'\n",
    "]"
   ]
  },
  {
   "cell_type": "code",
   "execution_count": 12,
   "id": "0debd17d",
   "metadata": {},
   "outputs": [
    {
     "name": "stdout",
     "output_type": "stream",
     "text": [
      "reports: 0.7167\n",
      "age: 0.524\n",
      "income: 0.5908\n",
      "share: 0.9892\n",
      "expenditure: 0.991\n",
      "dependents: 0.5328\n",
      "months: 0.5294\n",
      "majorcards: 0.5344\n",
      "active: 0.6043\n"
     ]
    }
   ],
   "source": [
    "for col in numerical:\n",
    "    score = roc_auc_score(df_train.card, df_train[col])\n",
    "    if score < 0.5:\n",
    "        score = roc_auc_score(df_train.card, -df_train[col])\n",
    "    print(f\"{col}: {score:.04}\")\n",
    "    "
   ]
  },
  {
   "cell_type": "markdown",
   "id": "8c6365d4",
   "metadata": {},
   "source": [
    "## best score has share column"
   ]
  },
  {
   "cell_type": "markdown",
   "id": "5af98791",
   "metadata": {},
   "source": [
    "# train the model"
   ]
  },
  {
   "cell_type": "code",
   "execution_count": 13,
   "id": "094def02",
   "metadata": {},
   "outputs": [],
   "source": [
    "from sklearn.feature_extraction import DictVectorizer\n",
    "from sklearn.linear_model import LogisticRegression"
   ]
  },
  {
   "cell_type": "code",
   "execution_count": 14,
   "id": "dbe0819d",
   "metadata": {},
   "outputs": [],
   "source": [
    "cols = [\"reports\", \"age\", \"income\", \"share\", \"expenditure\", \"dependents\", \"months\", \"majorcards\", \"active\", \"owner\", \"selfemp\"]"
   ]
  },
  {
   "cell_type": "code",
   "execution_count": 15,
   "id": "1d16eb0e",
   "metadata": {},
   "outputs": [],
   "source": [
    "def prepare_X(df, vectorizer = None):\n",
    "    df = df[cols]\n",
    "    row_dicts = df.to_dict(orient='records')\n",
    "    if vectorizer == None:\n",
    "        vectorizer = DictVectorizer(sparse=False)\n",
    "        vectorizer.fit(row_dicts)\n",
    "    \n",
    "    return vectorizer.transform(row_dicts), vectorizer\n"
   ]
  },
  {
   "cell_type": "code",
   "execution_count": 16,
   "id": "22ef67eb",
   "metadata": {},
   "outputs": [],
   "source": [
    "model = LogisticRegression(solver='liblinear', C=1.0, max_iter=1000)"
   ]
  },
  {
   "cell_type": "markdown",
   "id": "04d592ad",
   "metadata": {},
   "source": [
    "# Q2 roc auc score for logistic regression"
   ]
  },
  {
   "cell_type": "code",
   "execution_count": 17,
   "id": "825e8fc1",
   "metadata": {},
   "outputs": [],
   "source": [
    "X, dv = prepare_X(df_train)\n",
    "y = df_train.card"
   ]
  },
  {
   "cell_type": "code",
   "execution_count": 18,
   "id": "efabefe3",
   "metadata": {},
   "outputs": [
    {
     "data": {
      "text/plain": [
       "LogisticRegression(max_iter=1000, solver='liblinear')"
      ]
     },
     "execution_count": 18,
     "metadata": {},
     "output_type": "execute_result"
    }
   ],
   "source": [
    "model.fit(X,y)"
   ]
  },
  {
   "cell_type": "code",
   "execution_count": 19,
   "id": "8e3e7c3f",
   "metadata": {},
   "outputs": [],
   "source": [
    "X, _ = prepare_X(df_val, dv)\n",
    "y = df_val.card\n",
    "y_pred = model.predict_proba(X)[:,1]"
   ]
  },
  {
   "cell_type": "code",
   "execution_count": 20,
   "id": "1b838538",
   "metadata": {},
   "outputs": [
    {
     "data": {
      "text/plain": [
       "0.995171242063847"
      ]
     },
     "execution_count": 20,
     "metadata": {},
     "output_type": "execute_result"
    }
   ],
   "source": [
    "roc_auc_score(y, y_pred)"
   ]
  },
  {
   "cell_type": "markdown",
   "id": "6d08e314",
   "metadata": {},
   "source": [
    "# Q3 find intersection precision and recal curve"
   ]
  },
  {
   "cell_type": "code",
   "execution_count": 21,
   "id": "6cabe0b3",
   "metadata": {},
   "outputs": [],
   "source": [
    "from sklearn.metrics import precision_score, recall_score\n",
    "import matplotlib.pyplot as plt\n"
   ]
  },
  {
   "cell_type": "code",
   "execution_count": 22,
   "id": "928ab5d2",
   "metadata": {},
   "outputs": [],
   "source": [
    "thresholds = np.linspace(0,1,100)"
   ]
  },
  {
   "cell_type": "code",
   "execution_count": 23,
   "id": "50577c50",
   "metadata": {},
   "outputs": [],
   "source": [
    "precision, recall = [], []"
   ]
  },
  {
   "cell_type": "code",
   "execution_count": 24,
   "id": "9e745373",
   "metadata": {},
   "outputs": [
    {
     "name": "stderr",
     "output_type": "stream",
     "text": [
      "C:\\Soft\\Anaconda\\lib\\site-packages\\sklearn\\metrics\\_classification.py:1248: UndefinedMetricWarning: Precision is ill-defined and being set to 0.0 due to no predicted samples. Use `zero_division` parameter to control this behavior.\n",
      "  _warn_prf(average, modifier, msg_start, len(result))\n"
     ]
    }
   ],
   "source": [
    "for t in thresholds:\n",
    "    precision.append(precision_score(y, y_pred > t))\n",
    "    recall.append(recall_score(y, y_pred > t))"
   ]
  },
  {
   "cell_type": "code",
   "execution_count": 25,
   "id": "6e248074",
   "metadata": {},
   "outputs": [
    {
     "data": {
      "text/plain": [
       "[<matplotlib.lines.Line2D at 0x1fd1e2ae6a0>]"
      ]
     },
     "execution_count": 25,
     "metadata": {},
     "output_type": "execute_result"
    },
    {
     "data": {
      "image/png": "[encoded data removed]",
      "text/plain": [
       "<Figure size 640x480 with 1 Axes>"
      ]
     },
     "metadata": {
      "needs_background": "light"
     },
     "output_type": "display_data"
    }
   ],
   "source": [
    "plt.figure(figsize=(8, 6), dpi=80)\n",
    "plt.plot(thresholds, precision, c=\"g\")\n",
    "plt.plot(thresholds, recall, c=\"r\")\n"
   ]
  },
  {
   "cell_type": "markdown",
   "id": "3ac1039f",
   "metadata": {},
   "source": [
    "curves intersects about 0.3 threshold"
   ]
  },
  {
   "cell_type": "markdown",
   "id": "7a44dbea",
   "metadata": {},
   "source": [
    "# Q4 find f1_score"
   ]
  },
  {
   "cell_type": "code",
   "execution_count": 26,
   "id": "20d70845",
   "metadata": {},
   "outputs": [],
   "source": [
    "from sklearn.metrics import f1_score"
   ]
  },
  {
   "cell_type": "code",
   "execution_count": 27,
   "id": "336f0d9e",
   "metadata": {},
   "outputs": [],
   "source": [
    "f1_scores = {t:f1_score(y, y_pred > t) for t in thresholds}"
   ]
  },
  {
   "cell_type": "code",
   "execution_count": 28,
   "id": "3a9af8fc",
   "metadata": {},
   "outputs": [
    {
     "data": {
      "text/plain": [
       "[(0.3434343434343435, 0.9832134292565947),\n",
       " (0.3535353535353536, 0.9832134292565947),\n",
       " (0.36363636363636365, 0.9832134292565947),\n",
       " (0.37373737373737376, 0.9832134292565947),\n",
       " (0.38383838383838387, 0.9832134292565947),\n",
       " (0.393939393939394, 0.9832134292565947),\n",
       " (0.4040404040404041, 0.9832134292565947),\n",
       " (0.4141414141414142, 0.9832134292565947),\n",
       " (0.8484848484848485, 0.983132530120482),\n",
       " (0.8585858585858587, 0.983132530120482),\n",
       " (0.8686868686868687, 0.983132530120482),\n",
       " (0.8787878787878789, 0.983132530120482),\n",
       " (0.888888888888889, 0.983132530120482),\n",
       " (0.8989898989898991, 0.983132530120482),\n",
       " (0.9090909090909092, 0.983132530120482),\n",
       " (0.9191919191919192, 0.983132530120482),\n",
       " (0.9292929292929294, 0.983132530120482),\n",
       " (0.9393939393939394, 0.983132530120482),\n",
       " (0.9494949494949496, 0.983132530120482),\n",
       " (0.9595959595959597, 0.983132530120482),\n",
       " (0.42424242424242425, 0.9807692307692307),\n",
       " (0.43434343434343436, 0.9807692307692307),\n",
       " (0.4444444444444445, 0.9807692307692307),\n",
       " (0.4545454545454546, 0.9807692307692307),\n",
       " (0.4646464646464647, 0.9807692307692307),\n",
       " (0.4747474747474748, 0.9807692307692307),\n",
       " (0.48484848484848486, 0.9807692307692307),\n",
       " (0.494949494949495, 0.9807692307692307),\n",
       " (0.5050505050505051, 0.9807692307692307),\n",
       " (0.5151515151515152, 0.9807692307692307),\n",
       " (0.5252525252525253, 0.9807692307692307),\n",
       " (0.5353535353535354, 0.9807692307692307),\n",
       " (0.5454545454545455, 0.9807692307692307),\n",
       " (0.5555555555555556, 0.9807692307692307),\n",
       " (0.5656565656565657, 0.9807692307692307),\n",
       " (0.5757575757575758, 0.9807692307692307),\n",
       " (0.5858585858585859, 0.9807692307692307),\n",
       " (0.595959595959596, 0.9807692307692307),\n",
       " (0.6060606060606061, 0.9807692307692307),\n",
       " (0.6161616161616162, 0.9807692307692307),\n",
       " (0.6262626262626263, 0.9807692307692307),\n",
       " (0.6363636363636365, 0.9807692307692307),\n",
       " (0.6464646464646465, 0.9807692307692307),\n",
       " (0.6565656565656566, 0.9807692307692307),\n",
       " (0.6666666666666667, 0.9807692307692307),\n",
       " (0.6767676767676768, 0.9807692307692307),\n",
       " (0.686868686868687, 0.9807692307692307),\n",
       " (0.696969696969697, 0.9807692307692307),\n",
       " (0.7070707070707072, 0.9807692307692307),\n",
       " (0.7171717171717172, 0.9807692307692307),\n",
       " (0.7272727272727273, 0.9807692307692307),\n",
       " (0.7373737373737375, 0.9807692307692307),\n",
       " (0.7474747474747475, 0.9807692307692307),\n",
       " (0.7575757575757577, 0.9807692307692307),\n",
       " (0.7676767676767677, 0.9807692307692307),\n",
       " (0.7777777777777778, 0.9807692307692307),\n",
       " (0.787878787878788, 0.9807692307692307),\n",
       " (0.797979797979798, 0.9807692307692307),\n",
       " (0.8080808080808082, 0.9807692307692307),\n",
       " (0.8181818181818182, 0.9807692307692307),\n",
       " (0.8282828282828284, 0.9807692307692307),\n",
       " (0.8383838383838385, 0.9807692307692307),\n",
       " (0.9696969696969697, 0.9806763285024155),\n",
       " (0.9797979797979799, 0.9806763285024155),\n",
       " (0.19191919191919193, 0.9787234042553191),\n",
       " (0.20202020202020204, 0.9787234042553191),\n",
       " (0.21212121212121213, 0.9787234042553191),\n",
       " (0.22222222222222224, 0.9787234042553191),\n",
       " (0.98989898989899, 0.9782082324455207),\n",
       " (0.16161616161616163, 0.9765258215962441),\n",
       " (0.17171717171717174, 0.9764150943396227),\n",
       " (0.18181818181818182, 0.9764150943396227),\n",
       " (0.23232323232323235, 0.976303317535545),\n",
       " (0.24242424242424243, 0.976303317535545),\n",
       " (0.25252525252525254, 0.976303317535545),\n",
       " (0.26262626262626265, 0.976303317535545),\n",
       " (0.27272727272727276, 0.976303317535545),\n",
       " (0.2828282828282829, 0.976303317535545),\n",
       " (0.29292929292929293, 0.976303317535545),\n",
       " (0.30303030303030304, 0.9761904761904763),\n",
       " (0.31313131313131315, 0.9761904761904763),\n",
       " (0.32323232323232326, 0.9761904761904763),\n",
       " (0.33333333333333337, 0.9761904761904763),\n",
       " (0.13131313131313133, 0.974477958236659),\n",
       " (0.14141414141414144, 0.9719626168224299),\n",
       " (0.15151515151515152, 0.9719626168224299),\n",
       " (0.07070707070707072, 0.9590909090909091),\n",
       " (0.10101010101010102, 0.958904109589041),\n",
       " (0.11111111111111112, 0.958904109589041),\n",
       " (0.12121212121212122, 0.958904109589041),\n",
       " (0.06060606060606061, 0.9569160997732427),\n",
       " (0.08080808080808081, 0.9567198177676538),\n",
       " (0.09090909090909091, 0.9567198177676538),\n",
       " (0.04040404040404041, 0.9504504504504505),\n",
       " (0.05050505050505051, 0.9504504504504505),\n",
       " (0.030303030303030304, 0.946188340807175),\n",
       " (0.020202020202020204, 0.9315673289183224),\n",
       " (0.010101010101010102, 0.9254385964912281),\n",
       " (0.0, 0.8884210526315789),\n",
       " (1.0, 0.0)]"
      ]
     },
     "execution_count": 28,
     "metadata": {},
     "output_type": "execute_result"
    }
   ],
   "source": [
    "sorted(f1_scores.items(), key=lambda x: x[1], reverse=True)"
   ]
  },
  {
   "cell_type": "markdown",
   "id": "eb5d26f5",
   "metadata": {},
   "source": [
    "The best f1_score if for 0.4 t (from options)"
   ]
  },
  {
   "cell_type": "markdown",
   "id": "b42a7580",
   "metadata": {},
   "source": [
    "# Q5 How large is standard devidation of the AUC scores across different folds?"
   ]
  },
  {
   "cell_type": "code",
   "execution_count": 29,
   "id": "2fca6b5c",
   "metadata": {},
   "outputs": [],
   "source": [
    "from sklearn.model_selection import KFold"
   ]
  },
  {
   "cell_type": "code",
   "execution_count": 34,
   "id": "9964359c",
   "metadata": {},
   "outputs": [],
   "source": [
    "kfold = KFold(n_splits=5, shuffle=True, random_state=1)"
   ]
  },
  {
   "cell_type": "code",
   "execution_count": 39,
   "id": "9ebc6f6b",
   "metadata": {},
   "outputs": [
    {
     "data": {
      "text/plain": [
       "0.0027434713804377724"
      ]
     },
     "execution_count": 39,
     "metadata": {},
     "output_type": "execute_result"
    }
   ],
   "source": [
    "scores = []\n",
    "for train_idx, val_idx in kfold.split(df_full_train):\n",
    "    train = df_full_train.iloc[train_idx]\n",
    "    val = df_full_train.iloc[val_idx]\n",
    "    \n",
    "    X_train, dv = prepare_X(train)\n",
    "    y_train = train.card\n",
    "    \n",
    "    model = LogisticRegression(solver='liblinear', C=1.0, max_iter=1000)\n",
    "    model.fit(X_train,y_train)\n",
    "    \n",
    "    X_val, _ = prepare_X(val, dv)\n",
    "    y_val = val.card\n",
    "    y_pred = model.predict_proba(X_val)[:,1]\n",
    "    \n",
    "    scores.append(roc_auc_score(y_val, y_pred))\n",
    "\n",
    "np.std(scores)\n",
    "    \n",
    "    "
   ]
  },
  {
   "cell_type": "markdown",
   "id": "e90f72d2",
   "metadata": {},
   "source": [
    "How large is standard devidation of the AUC scores across different folds?  \n",
    "0.003"
   ]
  },
  {
   "cell_type": "markdown",
   "id": "09168245",
   "metadata": {},
   "source": [
    "# Q6 Which C leads to the best mean score?"
   ]
  },
  {
   "cell_type": "code",
   "execution_count": 43,
   "id": "75574c4b",
   "metadata": {},
   "outputs": [
    {
     "name": "stdout",
     "output_type": "stream",
     "text": [
      "C=0.01, score=0.992\n",
      "C=0.1, score=0.995\n",
      "C=1, score=0.996\n",
      "C=10, score=0.996\n"
     ]
    }
   ],
   "source": [
    "for C in [0.01, 0.1, 1, 10]:\n",
    "    scores = []\n",
    "    for train_idx, val_idx in kfold.split(df_full_train):\n",
    "        train = df_full_train.iloc[train_idx]\n",
    "        val = df_full_train.iloc[val_idx]\n",
    "\n",
    "        X_train, dv = prepare_X(train)\n",
    "        y_train = train.card\n",
    "\n",
    "        model = LogisticRegression(solver='liblinear', C=C, max_iter=1000)\n",
    "        model.fit(X_train,y_train)\n",
    "\n",
    "        X_val, _ = prepare_X(val, dv)\n",
    "        y_val = val.card\n",
    "        y_pred = model.predict_proba(X_val)[:,1]\n",
    "\n",
    "        scores.append(roc_auc_score(y_val, y_pred))\n",
    "\n",
    "    print(f\"C={C}, score={round(np.mean(scores), 3)}\")"
   ]
  },
  {
   "cell_type": "markdown",
   "id": "7ce5f880",
   "metadata": {},
   "source": [
    "The best C is 1 (default value)"
   ]
  },
  {
   "cell_type": "code",
   "execution_count": null,
   "id": "6d018900",
   "metadata": {},
   "outputs": [],
   "source": []
  }
 ],
 "metadata": {
  "kernelspec": {
   "display_name": "Python 3 (ipykernel)",
   "language": "python",
   "name": "python3"
  },
  "language_info": {
   "codemirror_mode": {
    "name": "ipython",
    "version": 3
   },
   "file_extension": ".py",
   "mimetype": "text/x-python",
   "name": "python",
   "nbconvert_exporter": "python",
   "pygments_lexer": "ipython3",
   "version": "3.9.7"
  }
 },
 "nbformat": 4,
 "nbformat_minor": 5
}
