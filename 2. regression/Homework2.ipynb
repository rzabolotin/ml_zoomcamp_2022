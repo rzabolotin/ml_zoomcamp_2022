{
 "cells": [
  {
   "cell_type": "code",
   "execution_count": 1,
   "id": "d8d006ea",
   "metadata": {},
   "outputs": [],
   "source": [
    "import pandas as pd\n",
    "import numpy as np\n",
    "import seaborn as sns"
   ]
  },
  {
   "cell_type": "code",
   "execution_count": 2,
   "id": "f2f75dbd",
   "metadata": {},
   "outputs": [],
   "source": [
    "df = pd.read_csv(\"housing.csv\")"
   ]
  },
  {
   "cell_type": "code",
   "execution_count": 3,
   "id": "e710ec4a",
   "metadata": {},
   "outputs": [
    {
     "data": {
      "text/html": [
       "<div>\n",
       "<style scoped>\n",
       "    .dataframe tbody tr th:only-of-type {\n",
       "        vertical-align: middle;\n",
       "    }\n",
       "\n",
       "    .dataframe tbody tr th {\n",
       "        vertical-align: top;\n",
       "    }\n",
       "\n",
       "    .dataframe thead th {\n",
       "        text-align: right;\n",
       "    }\n",
       "</style>\n",
       "<table border=\"1\" class=\"dataframe\">\n",
       "  <thead>\n",
       "    <tr style=\"text-align: right;\">\n",
       "      <th></th>\n",
       "      <th>longitude</th>\n",
       "      <th>latitude</th>\n",
       "      <th>housing_median_age</th>\n",
       "      <th>total_rooms</th>\n",
       "      <th>total_bedrooms</th>\n",
       "      <th>population</th>\n",
       "      <th>households</th>\n",
       "      <th>median_income</th>\n",
       "      <th>median_house_value</th>\n",
       "      <th>ocean_proximity</th>\n",
       "    </tr>\n",
       "  </thead>\n",
       "  <tbody>\n",
       "    <tr>\n",
       "      <th>0</th>\n",
       "      <td>-122.23</td>\n",
       "      <td>37.88</td>\n",
       "      <td>41.0</td>\n",
       "      <td>880.0</td>\n",
       "      <td>129.0</td>\n",
       "      <td>322.0</td>\n",
       "      <td>126.0</td>\n",
       "      <td>8.3252</td>\n",
       "      <td>452600.0</td>\n",
       "      <td>NEAR BAY</td>\n",
       "    </tr>\n",
       "    <tr>\n",
       "      <th>1</th>\n",
       "      <td>-122.22</td>\n",
       "      <td>37.86</td>\n",
       "      <td>21.0</td>\n",
       "      <td>7099.0</td>\n",
       "      <td>1106.0</td>\n",
       "      <td>2401.0</td>\n",
       "      <td>1138.0</td>\n",
       "      <td>8.3014</td>\n",
       "      <td>358500.0</td>\n",
       "      <td>NEAR BAY</td>\n",
       "    </tr>\n",
       "    <tr>\n",
       "      <th>2</th>\n",
       "      <td>-122.24</td>\n",
       "      <td>37.85</td>\n",
       "      <td>52.0</td>\n",
       "      <td>1467.0</td>\n",
       "      <td>190.0</td>\n",
       "      <td>496.0</td>\n",
       "      <td>177.0</td>\n",
       "      <td>7.2574</td>\n",
       "      <td>352100.0</td>\n",
       "      <td>NEAR BAY</td>\n",
       "    </tr>\n",
       "    <tr>\n",
       "      <th>3</th>\n",
       "      <td>-122.25</td>\n",
       "      <td>37.85</td>\n",
       "      <td>52.0</td>\n",
       "      <td>1274.0</td>\n",
       "      <td>235.0</td>\n",
       "      <td>558.0</td>\n",
       "      <td>219.0</td>\n",
       "      <td>5.6431</td>\n",
       "      <td>341300.0</td>\n",
       "      <td>NEAR BAY</td>\n",
       "    </tr>\n",
       "    <tr>\n",
       "      <th>4</th>\n",
       "      <td>-122.25</td>\n",
       "      <td>37.85</td>\n",
       "      <td>52.0</td>\n",
       "      <td>1627.0</td>\n",
       "      <td>280.0</td>\n",
       "      <td>565.0</td>\n",
       "      <td>259.0</td>\n",
       "      <td>3.8462</td>\n",
       "      <td>342200.0</td>\n",
       "      <td>NEAR BAY</td>\n",
       "    </tr>\n",
       "  </tbody>\n",
       "</table>\n",
       "</div>"
      ],
      "text/plain": [
       "   longitude  latitude  housing_median_age  total_rooms  total_bedrooms  \\\n",
       "0    -122.23     37.88                41.0        880.0           129.0   \n",
       "1    -122.22     37.86                21.0       7099.0          1106.0   \n",
       "2    -122.24     37.85                52.0       1467.0           190.0   \n",
       "3    -122.25     37.85                52.0       1274.0           235.0   \n",
       "4    -122.25     37.85                52.0       1627.0           280.0   \n",
       "\n",
       "   population  households  median_income  median_house_value ocean_proximity  \n",
       "0       322.0       126.0         8.3252            452600.0        NEAR BAY  \n",
       "1      2401.0      1138.0         8.3014            358500.0        NEAR BAY  \n",
       "2       496.0       177.0         7.2574            352100.0        NEAR BAY  \n",
       "3       558.0       219.0         5.6431            341300.0        NEAR BAY  \n",
       "4       565.0       259.0         3.8462            342200.0        NEAR BAY  "
      ]
     },
     "execution_count": 3,
     "metadata": {},
     "output_type": "execute_result"
    }
   ],
   "source": [
    "df.head()"
   ]
  },
  {
   "cell_type": "code",
   "execution_count": 4,
   "id": "fe3c0d51",
   "metadata": {},
   "outputs": [
    {
     "data": {
      "text/plain": [
       "<AxesSubplot:xlabel='median_income', ylabel='Count'>"
      ]
     },
     "execution_count": 4,
     "metadata": {},
     "output_type": "execute_result"
    },
    {
     "data": {
      "image/png": "[encoded data removed]",
      "text/plain": [
       "<Figure size 432x288 with 1 Axes>"
      ]
     },
     "metadata": {
      "needs_background": "light"
     },
     "output_type": "display_data"
    }
   ],
   "source": [
    "sns.histplot(df.median_income)"
   ]
  },
  {
   "cell_type": "code",
   "execution_count": 5,
   "id": "d3d1aaab",
   "metadata": {},
   "outputs": [
    {
     "data": {
      "text/plain": [
       "<AxesSubplot:xlabel='median_income', ylabel='Count'>"
      ]
     },
     "execution_count": 5,
     "metadata": {},
     "output_type": "execute_result"
    },
    {
     "data": {
      "image/png": "[encoded data removed]",
      "text/plain": [
       "<Figure size 432x288 with 1 Axes>"
      ]
     },
     "metadata": {
      "needs_background": "light"
     },
     "output_type": "display_data"
    }
   ],
   "source": [
    "sns.histplot(np.log1p(df.median_income))"
   ]
  },
  {
   "cell_type": "code",
   "execution_count": 6,
   "id": "03d20bdb",
   "metadata": {},
   "outputs": [
    {
     "name": "stdout",
     "output_type": "stream",
     "text": [
      "<class 'pandas.core.frame.DataFrame'>\n",
      "RangeIndex: 20640 entries, 0 to 20639\n",
      "Data columns (total 10 columns):\n",
      " #   Column              Non-Null Count  Dtype  \n",
      "---  ------              --------------  -----  \n",
      " 0   longitude           20640 non-null  float64\n",
      " 1   latitude            20640 non-null  float64\n",
      " 2   housing_median_age  20640 non-null  float64\n",
      " 3   total_rooms         20640 non-null  float64\n",
      " 4   total_bedrooms      20433 non-null  float64\n",
      " 5   population          20640 non-null  float64\n",
      " 6   households          20640 non-null  float64\n",
      " 7   median_income       20640 non-null  float64\n",
      " 8   median_house_value  20640 non-null  float64\n",
      " 9   ocean_proximity     20640 non-null  object \n",
      "dtypes: float64(9), object(1)\n",
      "memory usage: 1.6+ MB\n"
     ]
    }
   ],
   "source": [
    "df.info()"
   ]
  },
  {
   "cell_type": "code",
   "execution_count": 7,
   "id": "42b77531",
   "metadata": {},
   "outputs": [
    {
     "data": {
      "text/plain": [
       "<1H OCEAN     9136\n",
       "INLAND        6551\n",
       "NEAR OCEAN    2658\n",
       "NEAR BAY      2290\n",
       "ISLAND           5\n",
       "Name: ocean_proximity, dtype: int64"
      ]
     },
     "execution_count": 7,
     "metadata": {},
     "output_type": "execute_result"
    }
   ],
   "source": [
    "df.ocean_proximity.value_counts()"
   ]
  },
  {
   "cell_type": "code",
   "execution_count": 8,
   "id": "43956a5a",
   "metadata": {},
   "outputs": [],
   "source": [
    "del df[\"ocean_proximity\"]"
   ]
  },
  {
   "cell_type": "code",
   "execution_count": 9,
   "id": "12dced44",
   "metadata": {},
   "outputs": [
    {
     "name": "stdout",
     "output_type": "stream",
     "text": [
      "<class 'pandas.core.frame.DataFrame'>\n",
      "RangeIndex: 20640 entries, 0 to 20639\n",
      "Data columns (total 9 columns):\n",
      " #   Column              Non-Null Count  Dtype  \n",
      "---  ------              --------------  -----  \n",
      " 0   longitude           20640 non-null  float64\n",
      " 1   latitude            20640 non-null  float64\n",
      " 2   housing_median_age  20640 non-null  float64\n",
      " 3   total_rooms         20640 non-null  float64\n",
      " 4   total_bedrooms      20433 non-null  float64\n",
      " 5   population          20640 non-null  float64\n",
      " 6   households          20640 non-null  float64\n",
      " 7   median_income       20640 non-null  float64\n",
      " 8   median_house_value  20640 non-null  float64\n",
      "dtypes: float64(9)\n",
      "memory usage: 1.4 MB\n"
     ]
    }
   ],
   "source": [
    "df.info()"
   ]
  },
  {
   "cell_type": "markdown",
   "id": "d0bbd623",
   "metadata": {},
   "source": [
    "# 1. Find a feature with missing values. How many missing values does it have?"
   ]
  },
  {
   "cell_type": "code",
   "execution_count": 10,
   "id": "ea612fae",
   "metadata": {},
   "outputs": [
    {
     "data": {
      "text/plain": [
       "longitude               0\n",
       "latitude                0\n",
       "housing_median_age      0\n",
       "total_rooms             0\n",
       "total_bedrooms        207\n",
       "population              0\n",
       "households              0\n",
       "median_income           0\n",
       "median_house_value      0\n",
       "dtype: int64"
      ]
     },
     "execution_count": 10,
     "metadata": {},
     "output_type": "execute_result"
    }
   ],
   "source": [
    "df.isna().sum()"
   ]
  },
  {
   "cell_type": "markdown",
   "id": "2b56dfcb",
   "metadata": {},
   "source": [
    "# 2. What's the median (50% percentile) for variable 'population'?"
   ]
  },
  {
   "cell_type": "code",
   "execution_count": 11,
   "id": "e32320b8",
   "metadata": {},
   "outputs": [
    {
     "data": {
      "text/plain": [
       "1166.0"
      ]
     },
     "execution_count": 11,
     "metadata": {},
     "output_type": "execute_result"
    }
   ],
   "source": [
    "df.population.median()"
   ]
  },
  {
   "cell_type": "markdown",
   "id": "50648151",
   "metadata": {},
   "source": [
    "Split the data\n",
    "\n",
    "Shuffle the initial dataset, use seed 42.\n",
    "\n",
    "Split your data in train/val/test sets, with 60%/20%/20% distribution.\n",
    "\n",
    "Make sure that the target value ('median_house_value') is not in your dataframe.\n",
    "\n",
    "Apply the log transformation to the median_house_value variable using the np.log1p() function.\n"
   ]
  },
  {
   "cell_type": "code",
   "execution_count": 12,
   "id": "3a437a53",
   "metadata": {},
   "outputs": [],
   "source": [
    "from sklearn.model_selection import train_test_split"
   ]
  },
  {
   "cell_type": "code",
   "execution_count": 13,
   "id": "e2cc3852",
   "metadata": {},
   "outputs": [],
   "source": [
    "y = np.log1p(df.median_house_value)\n",
    "del df['median_house_value']"
   ]
  },
  {
   "cell_type": "code",
   "execution_count": 14,
   "id": "553faf44",
   "metadata": {},
   "outputs": [],
   "source": [
    "df_train, df_test, y_train, y_test = train_test_split(df, y, test_size=0.2, shuffle=True, random_state=42)\n",
    "df_train, df_val, y_train, y_val = train_test_split(df_train, y_train, test_size=0.25, shuffle=True, random_state=42)"
   ]
  },
  {
   "cell_type": "code",
   "execution_count": 15,
   "id": "d0c8abbf",
   "metadata": {},
   "outputs": [
    {
     "data": {
      "text/plain": [
       "[(12384, 8), (4128, 8), (4128, 8)]"
      ]
     },
     "execution_count": 15,
     "metadata": {},
     "output_type": "execute_result"
    }
   ],
   "source": [
    "[x.shape for x in [df_train, df_val, df_test]]"
   ]
  },
  {
   "cell_type": "markdown",
   "id": "b640fc1f",
   "metadata": {},
   "source": [
    "# Question 3"
   ]
  },
  {
   "cell_type": "markdown",
   "id": "3a546f38",
   "metadata": {},
   "source": [
    "We need to deal with missing values for the column from Q1.  \n",
    "We have two options: fill it with 0 or with the mean of this variable.  \n",
    "Try both options. For each, train a linear regression model without regularization using the code from the lessons.  \n",
    "For computing the mean, use the training only!  \n",
    "Use the validation dataset to evaluate the models and compare the RMSE of each option.  \n",
    "Round the RMSE scores to 2 decimal digits using round(score, 2)  \n",
    "Which option gives better RMSE?  \n",
    "Options:\n",
    "\n",
    "- With 0\n",
    "- With mean\n",
    "- With median\n",
    "- Both are equally good"
   ]
  },
  {
   "cell_type": "code",
   "execution_count": 16,
   "id": "84fbfaa2",
   "metadata": {},
   "outputs": [],
   "source": [
    "def rmse(y, y_pred):\n",
    "    error = y_pred - y\n",
    "    mse = (error ** 2).mean()\n",
    "    return np.sqrt(mse)\n",
    "\n",
    "def train_linear_regression_reg(X, y, r=0.01):\n",
    "    # r - коэффициент регуляризации\n",
    "    ones = np.ones(X.shape[0])\n",
    "    X = np.column_stack([ones, X])\n",
    "    XTX = X.T.dot(X)\n",
    "    XTX = XTX + r * np.eye(XTX.shape[0])\n",
    "    XTX_inv = np.linalg.inv(XTX)\n",
    "    w = XTX_inv.dot(X.T).dot(y)\n",
    "    return w[0], w[1:]"
   ]
  },
  {
   "cell_type": "code",
   "execution_count": 17,
   "id": "84a7bf4e",
   "metadata": {},
   "outputs": [],
   "source": [
    "def prepare_X(df, fill_na_method=None, fill_na_value=None):\n",
    "    df = df.copy()\n",
    "    if fill_na_method == \"zero\":\n",
    "        fill_na_value = 0\n",
    "    elif fill_na_method == \"mean\":\n",
    "        fill_na_value = df.mean()\n",
    "    elif fill_na_method == \"median\":\n",
    "        fill_na_value = df.median()\n",
    "    \n",
    "    df = df.fillna(fill_na_value)\n",
    "    X = df.values\n",
    "    return X, fill_na_value"
   ]
  },
  {
   "cell_type": "code",
   "execution_count": 18,
   "id": "fd295059",
   "metadata": {},
   "outputs": [
    {
     "name": "stdout",
     "output_type": "stream",
     "text": [
      "zero 0.34\n",
      "mean 0.34\n",
      "median 0.34\n"
     ]
    }
   ],
   "source": [
    "for fill_method in [\"zero\", \"mean\", \"median\"]:\n",
    "    X_train, fill_na_value = prepare_X(df_train, fill_na_method=fill_method)\n",
    "    w0, w = train_linear_regression_reg(X_train, y_train, r=0)\n",
    "    X_val, _ = prepare_X(df_val, fill_na_value=fill_na_value)\n",
    "    y_pred = w0 + X_val.dot(w)\n",
    "    print(fill_method, round(rmse(y_val, y_pred), 2))"
   ]
  },
  {
   "cell_type": "markdown",
   "id": "6936174a",
   "metadata": {},
   "source": [
    "## Answer both are equally good"
   ]
  },
  {
   "cell_type": "markdown",
   "id": "56c9af1c",
   "metadata": {},
   "source": [
    "# Question 4\n",
    "Now let's train a regularized linear regression.  \n",
    "For this question, fill the NAs with 0.  \n",
    "Try different values of r from this list: [0, 0.000001, 0.0001, 0.001, 0.01, 0.1, 1, 5, 10].  \n",
    "Use RMSE to evaluate the model on the validation dataset.  \n",
    "Round the RMSE scores to 2 decimal digits.  \n",
    "Which r gives the best RMSE? \n",
    "If there are multiple options, select the smallest r.  "
   ]
  },
  {
   "cell_type": "code",
   "execution_count": 19,
   "id": "d022ca1e",
   "metadata": {},
   "outputs": [
    {
     "name": "stdout",
     "output_type": "stream",
     "text": [
      "0 0.34\n",
      "0.0001 0.34\n",
      "0.001 0.34\n",
      "0.01 0.34\n",
      "0.1 0.34\n",
      "1 0.34\n",
      "10 0.35\n"
     ]
    }
   ],
   "source": [
    "for r in [0, 0.0001, 0.001, 0.01, 0.1, 1, 10]:\n",
    "    X_train, _ = prepare_X(df_train, fill_na_value=0)\n",
    "    w0, w = train_linear_regression_reg(X_train, y_train, r=r)\n",
    "    X_val, _ = prepare_X(df_val, fill_na_value=0)\n",
    "    y_pred = w0 + X_val.dot(w)\n",
    "    print(r, round(rmse(y_val, y_pred),2))"
   ]
  },
  {
   "cell_type": "code",
   "execution_count": 20,
   "id": "ab3b0a5d",
   "metadata": {},
   "outputs": [
    {
     "data": {
      "text/plain": [
       "array([-1.52006138e-01, -1.75364489e-01,  5.25690643e-03, -5.73066745e-05,\n",
       "        4.07630867e-04, -1.77051021e-04,  5.08028333e-04,  1.96890934e-01])"
      ]
     },
     "execution_count": 20,
     "metadata": {},
     "output_type": "execute_result"
    }
   ],
   "source": [
    "w"
   ]
  },
  {
   "cell_type": "markdown",
   "id": "b2139ffd",
   "metadata": {},
   "source": [
    "## Answer is both are equally good, the smallest r is 0"
   ]
  },
  {
   "cell_type": "markdown",
   "id": "ddb80cab",
   "metadata": {},
   "source": [
    "# Question 5\n",
    "\n",
    "We used seed 42 for splitting the data. Let's find out how selecting the seed influences our score.  \n",
    "Try different seed values: [0, 1, 2, 3, 4, 5, 6, 7, 8, 9].  \n",
    "For each seed, do the train/validation/test split with 60%/20%/20% distribution.  \n",
    "Fill the missing values with 0 and train a model without regularization.  \n",
    "For each seed, evaluate the model on the validation dataset and collect the RMSE scores.  \n",
    "What's the standard deviation of all the scores? To compute the standard deviation, use np.std.  \n",
    "Round the result to 3 decimal digits (round(std, 3))  \n",
    "Note: Standard deviation shows how different the values are. If it's low, then all values are approximately the same.   If it's high, the values are different. If standard deviation of scores is low, then our model is stable.\n",
    "\n",
    "Options:\n",
    "\n",
    "0.16  \n",
    "0.00005  \n",
    "0.005  \n",
    "0.15555  "
   ]
  },
  {
   "cell_type": "code",
   "execution_count": 43,
   "id": "6da0c80f",
   "metadata": {},
   "outputs": [
    {
     "name": "stdout",
     "output_type": "stream",
     "text": [
      "0 0.35\n",
      "1 0.34\n",
      "2 0.34\n",
      "3 0.34\n",
      "4 0.34\n",
      "5 0.34\n",
      "6 0.35\n",
      "7 0.35\n",
      "8 0.34\n",
      "9 0.33\n"
     ]
    }
   ],
   "source": [
    "rmse_scores = []\n",
    "for seed in range(10):\n",
    "    df_train, df_test, y_train, y_test = train_test_split(df, y, test_size=0.2, shuffle=True, random_state=seed)\n",
    "    df_train, df_val, y_train, y_val = train_test_split(df_train, y_train, test_size=0.25, shuffle=True, random_state=seed)\n",
    "    \n",
    "    X_train, _ = prepare_X(df_train, fill_na_value=0)\n",
    "    w0, w = train_linear_regression_reg(X_train, y_train, r=0)\n",
    "    X_val, _ = prepare_X(df_val, fill_na_value=0)\n",
    "    y_pred = w0 + X_val.dot(w)\n",
    "    print(seed, round(rmse(y_val, y_pred),2))\n",
    "    rmse_scores.append(rmse(y_val, y_pred))"
   ]
  },
  {
   "cell_type": "code",
   "execution_count": 45,
   "id": "233d4b24",
   "metadata": {},
   "outputs": [
    {
     "data": {
      "text/plain": [
       "0.004"
      ]
     },
     "execution_count": 45,
     "metadata": {},
     "output_type": "execute_result"
    }
   ],
   "source": [
    "round(np.std(rmse_scores),3)"
   ]
  },
  {
   "cell_type": "markdown",
   "id": "d48b30c5",
   "metadata": {},
   "source": [
    "# Question 6\n",
    "\n",
    "Split the dataset like previously, use seed 9.  \n",
    "Combine train and validation datasets.  \n",
    "Fill the missing values with 0 and train a model with r=0.001. \n",
    "What's the RMSE on the test dataset?  "
   ]
  },
  {
   "cell_type": "code",
   "execution_count": 48,
   "id": "fa17bf46",
   "metadata": {},
   "outputs": [
    {
     "name": "stdout",
     "output_type": "stream",
     "text": [
      "0.34\n"
     ]
    }
   ],
   "source": [
    "df_train, df_test, y_train, y_test = train_test_split(df, y, test_size=0.2, shuffle=True, random_state=9)\n",
    "\n",
    "X_train, _ = prepare_X(df_train, fill_na_value=0)\n",
    "w0, w = train_linear_regression_reg(X_train, y_train, r=0)\n",
    "X_val, _ = prepare_X(df_test, fill_na_value=0)\n",
    "y_pred = w0 + X_val.dot(w)\n",
    "print(round(rmse(y_test, y_pred),2))"
   ]
  },
  {
   "cell_type": "code",
   "execution_count": null,
   "id": "8e59e025",
   "metadata": {},
   "outputs": [],
   "source": []
  }
 ],
 "metadata": {
  "kernelspec": {
   "display_name": "Python 3 (ipykernel)",
   "language": "python",
   "name": "python3"
  },
  "language_info": {
   "codemirror_mode": {
    "name": "ipython",
    "version": 3
   },
   "file_extension": ".py",
   "mimetype": "text/x-python",
   "name": "python",
   "nbconvert_exporter": "python",
   "pygments_lexer": "ipython3",
   "version": "3.9.7"
  }
 },
 "nbformat": 4,
 "nbformat_minor": 5
}
