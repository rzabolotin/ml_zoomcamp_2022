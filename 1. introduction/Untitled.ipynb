{
 "cells": [
  {
   "cell_type": "code",
   "execution_count": 26,
   "id": "da65ef9e",
   "metadata": {},
   "outputs": [],
   "source": [
    "from sklearn.cluster import KMeans\n",
    "import numpy as np"
   ]
  },
  {
   "cell_type": "code",
   "execution_count": 3,
   "id": "91f8160c",
   "metadata": {},
   "outputs": [],
   "source": [
    "from sklearn.datasets import make_circles"
   ]
  },
  {
   "cell_type": "code",
   "execution_count": 8,
   "id": "76a6bacf",
   "metadata": {},
   "outputs": [],
   "source": [
    "a = make_circles(10)"
   ]
  },
  {
   "cell_type": "code",
   "execution_count": 10,
   "id": "8b8822e0",
   "metadata": {},
   "outputs": [],
   "source": [
    "k_means = KMeans(n_clusters=3)"
   ]
  },
  {
   "cell_type": "code",
   "execution_count": 15,
   "id": "6d927cdc",
   "metadata": {},
   "outputs": [],
   "source": [
    "y_ = k_means.fit_predict(a[0])"
   ]
  },
  {
   "cell_type": "code",
   "execution_count": 17,
   "id": "290fd55c",
   "metadata": {},
   "outputs": [
    {
     "data": {
      "text/plain": [
       "(array([0, 0, 2, 2, 2, 0, 1, 0, 2, 1]),\n",
       " array([1, 0, 1, 1, 0, 0, 1, 1, 0, 0], dtype=int64))"
      ]
     },
     "execution_count": 17,
     "metadata": {},
     "output_type": "execute_result"
    }
   ],
   "source": [
    "y_,a[1]"
   ]
  },
  {
   "cell_type": "code",
   "execution_count": 30,
   "id": "75bb06f2",
   "metadata": {},
   "outputs": [
    {
     "data": {
      "text/plain": [
       "array([0.8, 0. ])"
      ]
     },
     "execution_count": 30,
     "metadata": {},
     "output_type": "execute_result"
    }
   ],
   "source": [
    "a[0][3]"
   ]
  },
  {
   "cell_type": "code",
   "execution_count": 31,
   "id": "5ff78b0c",
   "metadata": {},
   "outputs": [],
   "source": [
    "to_predict_list = (0.8,0)"
   ]
  },
  {
   "cell_type": "code",
   "execution_count": 32,
   "id": "1d529597",
   "metadata": {},
   "outputs": [],
   "source": [
    "to_predict_list = list(map(float, to_predict_list))"
   ]
  },
  {
   "cell_type": "code",
   "execution_count": 33,
   "id": "6a8bdd83",
   "metadata": {},
   "outputs": [
    {
     "data": {
      "text/plain": [
       "[0.8, 0.0]"
      ]
     },
     "execution_count": 33,
     "metadata": {},
     "output_type": "execute_result"
    }
   ],
   "source": [
    "to_predict_list"
   ]
  },
  {
   "cell_type": "code",
   "execution_count": 34,
   "id": "455c1165",
   "metadata": {},
   "outputs": [],
   "source": [
    "to_predict = np.array(to_predict_list).reshape(1,2)"
   ]
  },
  {
   "cell_type": "code",
   "execution_count": 35,
   "id": "931cdcda",
   "metadata": {},
   "outputs": [
    {
     "data": {
      "text/plain": [
       "array([[0.8, 0. ]])"
      ]
     },
     "execution_count": 35,
     "metadata": {},
     "output_type": "execute_result"
    }
   ],
   "source": [
    "to_predict"
   ]
  },
  {
   "cell_type": "code",
   "execution_count": 37,
   "id": "88ad0caa",
   "metadata": {},
   "outputs": [
    {
     "data": {
      "text/plain": [
       "2"
      ]
     },
     "execution_count": 37,
     "metadata": {},
     "output_type": "execute_result"
    }
   ],
   "source": [
    "k_means.predict(to_predict)[0]"
   ]
  },
  {
   "cell_type": "code",
   "execution_count": null,
   "id": "c07dddba",
   "metadata": {},
   "outputs": [],
   "source": []
  }
 ],
 "metadata": {
  "kernelspec": {
   "display_name": "Python 3 (ipykernel)",
   "language": "python",
   "name": "python3"
  },
  "language_info": {
   "codemirror_mode": {
    "name": "ipython",
    "version": 3
   },
   "file_extension": ".py",
   "mimetype": "text/x-python",
   "name": "python",
   "nbconvert_exporter": "python",
   "pygments_lexer": "ipython3",
   "version": "3.9.7"
  }
 },
 "nbformat": 4,
 "nbformat_minor": 5
}
