{
 "cells": [
  {
   "cell_type": "code",
   "execution_count": 1,
   "id": "ca8932fd",
   "metadata": {},
   "outputs": [],
   "source": [
    "import numpy as np\n",
    "import pandas as pd"
   ]
  },
  {
   "cell_type": "code",
   "execution_count": 2,
   "id": "96b56109",
   "metadata": {},
   "outputs": [],
   "source": [
    "DATA = \"data.csv\""
   ]
  },
  {
   "cell_type": "code",
   "execution_count": 3,
   "id": "0761e6d9",
   "metadata": {},
   "outputs": [],
   "source": [
    "df = pd.read_csv(DATA)"
   ]
  },
  {
   "cell_type": "code",
   "execution_count": 4,
   "id": "5ea3bdea",
   "metadata": {},
   "outputs": [],
   "source": [
    "df.columns = df.columns.str.lower().str.replace(\" \", \"_\")"
   ]
  },
  {
   "cell_type": "markdown",
   "id": "a6046c78",
   "metadata": {},
   "source": [
    "# Question 1: Version of NumPy"
   ]
  },
  {
   "cell_type": "code",
   "execution_count": 5,
   "id": "062e0875",
   "metadata": {},
   "outputs": [
    {
     "data": {
      "text/plain": [
       "'1.20.3'"
      ]
     },
     "execution_count": 5,
     "metadata": {},
     "output_type": "execute_result"
    }
   ],
   "source": [
    "np.__version__"
   ]
  },
  {
   "cell_type": "markdown",
   "id": "d88d2863",
   "metadata": {},
   "source": [
    "# Question 2: Number of records in the dataset"
   ]
  },
  {
   "cell_type": "code",
   "execution_count": 6,
   "id": "d382e6c9",
   "metadata": {},
   "outputs": [
    {
     "data": {
      "text/plain": [
       "11914"
      ]
     },
     "execution_count": 6,
     "metadata": {},
     "output_type": "execute_result"
    }
   ],
   "source": [
    "df.shape[0]"
   ]
  },
  {
   "cell_type": "markdown",
   "id": "6cb0e0e1",
   "metadata": {},
   "source": [
    "# Question 3: The most popular car manufacturers\n"
   ]
  },
  {
   "cell_type": "code",
   "execution_count": 7,
   "id": "cb6d1b83",
   "metadata": {},
   "outputs": [
    {
     "data": {
      "text/plain": [
       "Chevrolet     1123\n",
       "Ford           881\n",
       "Volkswagen     809\n",
       "Name: make, dtype: int64"
      ]
     },
     "execution_count": 7,
     "metadata": {},
     "output_type": "execute_result"
    }
   ],
   "source": [
    "df.make.value_counts()[:3]"
   ]
  },
  {
   "cell_type": "code",
   "execution_count": 15,
   "id": "ff499d8c",
   "metadata": {},
   "outputs": [
    {
     "data": {
      "text/plain": [
       "make\n",
       "Ford       5657.0\n",
       "BMW        3916.0\n",
       "Audi       3105.0\n",
       "Ferrari    2774.0\n",
       "Honda      2202.0\n",
       "Name: popularity, dtype: float64"
      ]
     },
     "execution_count": 15,
     "metadata": {},
     "output_type": "execute_result"
    }
   ],
   "source": [
    "df.groupby([\"make\"]).popularity.mean().sort_values(ascending=False).head()"
   ]
  },
  {
   "cell_type": "markdown",
   "id": "c5ecbeed",
   "metadata": {},
   "source": [
    "# Question 4: Number of unique Audi car models\n"
   ]
  },
  {
   "cell_type": "code",
   "execution_count": 10,
   "id": "8b437a82",
   "metadata": {},
   "outputs": [
    {
     "data": {
      "text/plain": [
       "34"
      ]
     },
     "execution_count": 10,
     "metadata": {},
     "output_type": "execute_result"
    }
   ],
   "source": [
    "df[df.make == \"Audi\"].model.nunique()"
   ]
  },
  {
   "cell_type": "markdown",
   "id": "bf9fb119",
   "metadata": {},
   "source": [
    "# Question 5: Number of columns with missing values\n"
   ]
  },
  {
   "cell_type": "code",
   "execution_count": 11,
   "id": "b10a1866",
   "metadata": {},
   "outputs": [
    {
     "data": {
      "text/plain": [
       "5"
      ]
     },
     "execution_count": 11,
     "metadata": {},
     "output_type": "execute_result"
    }
   ],
   "source": [
    "(df.isna().sum() > 0).sum()"
   ]
  },
  {
   "cell_type": "markdown",
   "id": "c316bc25",
   "metadata": {},
   "source": [
    "# Question 6: Does the median value change after filling missing values?"
   ]
  },
  {
   "cell_type": "markdown",
   "id": "8204cb34",
   "metadata": {},
   "source": [
    "Find the median value of \"Engine Cylinders\" column in the dataset.  \n",
    "Next, calculate the most frequent value of the same \"Engine Cylinders\".  \n",
    "Use the fillna method to fill the missing values in \"Engine Cylinders\" with the most frequent value from the previous step.  \n",
    "Now, calculate the median value of \"Engine Cylinders\" once again.  \n",
    "Has it changed?  \n",
    " \n",
    "Hint: refer to existing mode and median functions to complete the task.  "
   ]
  },
  {
   "cell_type": "code",
   "execution_count": 18,
   "id": "e803bf6e",
   "metadata": {},
   "outputs": [
    {
     "data": {
      "text/plain": [
       "6.0"
      ]
     },
     "execution_count": 18,
     "metadata": {},
     "output_type": "execute_result"
    }
   ],
   "source": [
    "ec_median = df.engine_cylinders.median();\n",
    "ec_median"
   ]
  },
  {
   "cell_type": "code",
   "execution_count": 15,
   "id": "e20f6cfe",
   "metadata": {},
   "outputs": [
    {
     "data": {
      "text/plain": [
       "4.0"
      ]
     },
     "execution_count": 15,
     "metadata": {},
     "output_type": "execute_result"
    }
   ],
   "source": [
    "most_frequent = df.engine_cylinders.value_counts().index[0]\n",
    "most_frequent"
   ]
  },
  {
   "cell_type": "code",
   "execution_count": 16,
   "id": "55abf1dd",
   "metadata": {},
   "outputs": [],
   "source": [
    "engine_cylinders_wout_na = df.engine_cylinders.fillna(most_frequent)"
   ]
  },
  {
   "cell_type": "markdown",
   "id": "4e0315f2",
   "metadata": {},
   "source": [
    "Проверим, что NA точно заполнены"
   ]
  },
  {
   "cell_type": "code",
   "execution_count": 19,
   "id": "9003ee2f",
   "metadata": {},
   "outputs": [
    {
     "data": {
      "text/plain": [
       "30"
      ]
     },
     "execution_count": 19,
     "metadata": {},
     "output_type": "execute_result"
    }
   ],
   "source": [
    "df.engine_cylinders.isna().sum()"
   ]
  },
  {
   "cell_type": "code",
   "execution_count": 20,
   "id": "d2a05829",
   "metadata": {},
   "outputs": [
    {
     "data": {
      "text/plain": [
       "0"
      ]
     },
     "execution_count": 20,
     "metadata": {},
     "output_type": "execute_result"
    }
   ],
   "source": [
    "engine_cylinders_wout_na.isna().sum()"
   ]
  },
  {
   "cell_type": "code",
   "execution_count": 21,
   "id": "341f2cc1",
   "metadata": {},
   "outputs": [
    {
     "data": {
      "text/plain": [
       "6.0"
      ]
     },
     "execution_count": 21,
     "metadata": {},
     "output_type": "execute_result"
    }
   ],
   "source": [
    "engine_cylinders_wout_na.median()"
   ]
  },
  {
   "cell_type": "markdown",
   "id": "2c639854",
   "metadata": {},
   "source": [
    "Ответ: медиана не поменялась, после заполнения пропущенных значений"
   ]
  },
  {
   "cell_type": "markdown",
   "id": "1b530eb1",
   "metadata": {},
   "source": [
    "# Questions 7: Value of the first element of w"
   ]
  },
  {
   "cell_type": "markdown",
   "id": "fbd8d401",
   "metadata": {},
   "source": [
    "Select all the \"Lotus\" cars from the dataset.  \n",
    "Select only columns \"Engine HP\", \"Engine Cylinders\".  \n",
    "Now drop all duplicated rows using drop_duplicates method (you should get a dataframe with 9 rows).  \n",
    "Get the underlying NumPy array. Let's call it X.  \n",
    "Compute matrix-matrix multiplication between the transpose of X and X. To get the transpose, use X.T. Let's call the result XTX.  \n",
    "Invert XTX.  \n",
    "Create an array y with values [1100, 800, 750, 850, 1300, 1000, 1000, 1300, 800].  \n",
    "Multiply the inverse of XTX with the transpose of X, and then multiply the result by y. Call the result w.  \n",
    "What's the value of the first element of w?  \n",
    "\n",
    "Note: You just implemented linear regression. We'll talk about it in the next lesson.  "
   ]
  },
  {
   "cell_type": "code",
   "execution_count": 26,
   "id": "ec88d2e5",
   "metadata": {},
   "outputs": [],
   "source": [
    "crop_df = df.loc[df.make == \"Lotus\",[\"engine_hp\", \"engine_cylinders\"]]"
   ]
  },
  {
   "cell_type": "code",
   "execution_count": 29,
   "id": "500d97d9",
   "metadata": {},
   "outputs": [],
   "source": [
    "crop_df.drop_duplicates(inplace=True)"
   ]
  },
  {
   "cell_type": "code",
   "execution_count": 36,
   "id": "be7ee06d",
   "metadata": {},
   "outputs": [],
   "source": [
    "X = crop_df.values"
   ]
  },
  {
   "cell_type": "code",
   "execution_count": 67,
   "id": "85c6de69",
   "metadata": {},
   "outputs": [],
   "source": [
    "XTX = X.T.dot(X)"
   ]
  },
  {
   "cell_type": "code",
   "execution_count": 68,
   "id": "1eb8ee7e",
   "metadata": {},
   "outputs": [
    {
     "data": {
      "text/plain": [
       "array([[7.31684e+05, 1.34100e+04],\n",
       "       [1.34100e+04, 2.52000e+02]])"
      ]
     },
     "execution_count": 68,
     "metadata": {},
     "output_type": "execute_result"
    }
   ],
   "source": [
    "XTX"
   ]
  },
  {
   "cell_type": "code",
   "execution_count": 38,
   "id": "9d61ad05",
   "metadata": {},
   "outputs": [],
   "source": [
    "y = np.array([\n",
    "    1100,\n",
    "    800,\n",
    "    750,\n",
    "    850,\n",
    "    1300,\n",
    "    1000,\n",
    "    1000,\n",
    "    1300,\n",
    "    800\n",
    "])"
   ]
  },
  {
   "cell_type": "code",
   "execution_count": 69,
   "id": "ed35fdfd",
   "metadata": {},
   "outputs": [
    {
     "data": {
      "text/plain": [
       "array([[ 5.53084235e-05, -2.94319825e-03],\n",
       "       [-2.94319825e-03,  1.60588447e-01]])"
      ]
     },
     "execution_count": 69,
     "metadata": {},
     "output_type": "execute_result"
    }
   ],
   "source": [
    "np.linalg.inv(XTX)"
   ]
  },
  {
   "cell_type": "code",
   "execution_count": 70,
   "id": "0ea03f7a",
   "metadata": {},
   "outputs": [],
   "source": [
    "w = np.linalg.inv(XTX).dot(X.T).dot(y)"
   ]
  },
  {
   "cell_type": "code",
   "execution_count": 73,
   "id": "bdb36d43",
   "metadata": {},
   "outputs": [
    {
     "data": {
      "text/plain": [
       "array([ 614.18726905,  747.44066855,  742.84572374, 1099.71608343,\n",
       "       1456.59197396,  886.81881751, 1203.8700094 ,  926.64351614,\n",
       "        848.52945437])"
      ]
     },
     "execution_count": 73,
     "metadata": {},
     "output_type": "execute_result"
    }
   ],
   "source": [
    "X.dot(w)"
   ]
  },
  {
   "cell_type": "code",
   "execution_count": 74,
   "id": "0fd15579",
   "metadata": {},
   "outputs": [
    {
     "data": {
      "text/plain": [
       "4.594944810094576"
      ]
     },
     "execution_count": 74,
     "metadata": {},
     "output_type": "execute_result"
    }
   ],
   "source": [
    "w[0]"
   ]
  },
  {
   "cell_type": "markdown",
   "id": "43558b4a",
   "metadata": {},
   "source": [
    "Ответ: w[0] = 4.5949"
   ]
  },
  {
   "cell_type": "code",
   "execution_count": null,
   "id": "94ae4a40",
   "metadata": {},
   "outputs": [],
   "source": []
  }
 ],
 "metadata": {
  "kernelspec": {
   "display_name": "Python 3 (ipykernel)",
   "language": "python",
   "name": "python3"
  },
  "language_info": {
   "codemirror_mode": {
    "name": "ipython",
    "version": 3
   },
   "file_extension": ".py",
   "mimetype": "text/x-python",
   "name": "python",
   "nbconvert_exporter": "python",
   "pygments_lexer": "ipython3",
   "version": "3.9.7"
  }
 },
 "nbformat": 4,
 "nbformat_minor": 5
}
