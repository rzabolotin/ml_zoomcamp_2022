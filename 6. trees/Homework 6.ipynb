{
 "cells": [
  {
   "cell_type": "code",
   "execution_count": 5,
   "id": "ec4882ec",
   "metadata": {},
   "outputs": [],
   "source": [
    "#@ IMPORTING LIBRARIES AND DEPENDENCIES:\n",
    "import re\n",
    "import numpy as np\n",
    "import pandas as pd\n",
    "import seaborn as sns\n",
    "import xgboost as xgb\n",
    "import matplotlib.pyplot as plt\n",
    "from tqdm.auto import tqdm\n",
    "from sklearn.tree import DecisionTreeRegressor\n",
    "from sklearn.tree import export_text\n",
    "from sklearn.feature_extraction import DictVectorizer\n",
    "from sklearn.model_selection import train_test_split\n",
    "from sklearn.ensemble import RandomForestRegressor\n",
    "from sklearn.metrics import mean_squared_error\n",
    "\n",
    "%matplotlib inline"
   ]
  },
  {
   "cell_type": "code",
   "execution_count": 6,
   "id": "2c3d7b58",
   "metadata": {},
   "outputs": [],
   "source": [
    "#@ READING DATASET:\n",
    "PATH = \"https://raw.githubusercontent.com/alexeygrigorev/datasets/master/housing.csv\"\n",
    "select_cols = [\"longitude\", \"latitude\", \"housing_median_age\", \"total_rooms\", \"total_bedrooms\", \"population\", \"households\", \n",
    "               \"median_income\", \"median_house_value\", \"ocean_proximity\"]\n",
    "df = pd.read_csv(PATH, usecols=select_cols)\n",
    "df.total_bedrooms = df.total_bedrooms.fillna(0)"
   ]
  },
  {
   "cell_type": "code",
   "execution_count": 12,
   "id": "fbdcdd4b",
   "metadata": {},
   "outputs": [],
   "source": [
    "df.median_house_value = np.log1p(df.median_house_value)"
   ]
  },
  {
   "cell_type": "code",
   "execution_count": 13,
   "id": "5257e38e",
   "metadata": {},
   "outputs": [],
   "source": [
    "df_full_train, df_test = train_test_split(df, test_size=0.2, random_state=1)"
   ]
  },
  {
   "cell_type": "code",
   "execution_count": 14,
   "id": "babec795",
   "metadata": {},
   "outputs": [],
   "source": [
    "df_train, df_val = train_test_split(df_full_train, test_size=0.25, random_state=1)"
   ]
  },
  {
   "cell_type": "code",
   "execution_count": 15,
   "id": "ac2a3588",
   "metadata": {},
   "outputs": [
    {
     "data": {
      "text/plain": [
       "((12384, 10), (4128, 10), (4128, 10))"
      ]
     },
     "execution_count": 15,
     "metadata": {},
     "output_type": "execute_result"
    }
   ],
   "source": [
    "df_train.shape, df_val.shape, df_test.shape"
   ]
  },
  {
   "cell_type": "code",
   "execution_count": 18,
   "id": "922070ae",
   "metadata": {},
   "outputs": [],
   "source": [
    "y_full_train = df_full_train.median_house_value.values\n",
    "y_test = df_test.median_house_value.values\n",
    "y_train = df_train.median_house_value.values\n",
    "y_val = df_val.median_house_value.values\n",
    "\n",
    "del df_full_train[\"median_house_value\"]\n",
    "del df_test[\"median_house_value\"]\n",
    "del df_train[\"median_house_value\"]\n",
    "del df_val[\"median_house_value\"]\n"
   ]
  },
  {
   "cell_type": "code",
   "execution_count": 25,
   "id": "b8d2b99b",
   "metadata": {},
   "outputs": [],
   "source": [
    "def make_X(df, dv = None):\n",
    "    dicts = df.to_dict(orient=\"records\")\n",
    "    if not dv:\n",
    "        dv = DictVectorizer(sparse=False)\n",
    "        X = dv.fit_transform(dicts)\n",
    "    else:\n",
    "        X = dv.transform(dicts)\n",
    "    return (X, dv)"
   ]
  },
  {
   "cell_type": "code",
   "execution_count": 46,
   "id": "00850449",
   "metadata": {},
   "outputs": [],
   "source": [
    "X_train, dv = make_X(df_train)\n",
    "X_val, _  = make_X(df_val, dv)"
   ]
  },
  {
   "cell_type": "markdown",
   "id": "c9136404",
   "metadata": {},
   "source": [
    "# Q1: Which feature is used for splitting the data?"
   ]
  },
  {
   "cell_type": "code",
   "execution_count": 30,
   "id": "a024c5f2",
   "metadata": {},
   "outputs": [],
   "source": [
    "model = DecisionTreeRegressor(max_depth=1)"
   ]
  },
  {
   "cell_type": "code",
   "execution_count": 31,
   "id": "0b9fba85",
   "metadata": {},
   "outputs": [
    {
     "data": {
      "text/plain": [
       "DecisionTreeRegressor(max_depth=1)"
      ]
     },
     "execution_count": 31,
     "metadata": {},
     "output_type": "execute_result"
    }
   ],
   "source": [
    "model.fit(X_train, y_train)"
   ]
  },
  {
   "cell_type": "code",
   "execution_count": 35,
   "id": "10a147fa",
   "metadata": {},
   "outputs": [
    {
     "name": "stdout",
     "output_type": "stream",
     "text": [
      "|--- ocean_proximity=INLAND <= 0.50\n",
      "|   |--- value: [12.31]\n",
      "|--- ocean_proximity=INLAND >  0.50\n",
      "|   |--- value: [11.61]\n",
      "\n"
     ]
    }
   ],
   "source": [
    "print(export_text(model, feature_names = dv.feature_names_))"
   ]
  },
  {
   "cell_type": "markdown",
   "id": "3aed9e49",
   "metadata": {},
   "source": [
    "## Answer: Ocean_proximity = INLAND"
   ]
  },
  {
   "cell_type": "markdown",
   "id": "28728b6d",
   "metadata": {},
   "source": [
    "# Q2: What's the RMSE of this Random forest model on validation?"
   ]
  },
  {
   "cell_type": "code",
   "execution_count": 38,
   "id": "eee5b66d",
   "metadata": {},
   "outputs": [],
   "source": [
    " model = RandomForestRegressor(n_estimators=10, random_state=1, n_jobs=-1) "
   ]
  },
  {
   "cell_type": "code",
   "execution_count": 39,
   "id": "daae015a",
   "metadata": {},
   "outputs": [
    {
     "data": {
      "text/plain": [
       "RandomForestRegressor(n_estimators=10, n_jobs=-1, random_state=1)"
      ]
     },
     "execution_count": 39,
     "metadata": {},
     "output_type": "execute_result"
    }
   ],
   "source": [
    "model.fit(X_train, y_train)"
   ]
  },
  {
   "cell_type": "code",
   "execution_count": 48,
   "id": "611c3d70",
   "metadata": {},
   "outputs": [],
   "source": [
    "preds = model.predict(X_val)"
   ]
  },
  {
   "cell_type": "code",
   "execution_count": 52,
   "id": "fb2c149a",
   "metadata": {},
   "outputs": [
    {
     "data": {
      "text/plain": [
       "0.2457383433183843"
      ]
     },
     "execution_count": 52,
     "metadata": {},
     "output_type": "execute_result"
    }
   ],
   "source": [
    "(mean_squared_error(preds, y_val)) ** 0.5"
   ]
  },
  {
   "cell_type": "code",
   "execution_count": null,
   "id": "3ec901b1",
   "metadata": {},
   "outputs": [],
   "source": [
    "## Answer: RMSE = 0.246"
   ]
  },
  {
   "cell_type": "markdown",
   "id": "361a5879",
   "metadata": {},
   "source": [
    "# Q3: Plateau on n_estimators"
   ]
  },
  {
   "cell_type": "code",
   "execution_count": 54,
   "id": "2079be9b",
   "metadata": {},
   "outputs": [],
   "source": [
    "scores = []\n",
    "for n in range(10, 200, 10):\n",
    "    model = RandomForestRegressor(n_estimators=n, random_state=1, n_jobs=-1) \n",
    "    model.fit(X_train, y_train)\n",
    "    preds = model.predict(X_val)\n",
    "    rmse = mean_squared_error(preds, y_val) ** 0.5\n",
    "    scores.append((n, rmse))"
   ]
  },
  {
   "cell_type": "code",
   "execution_count": 58,
   "id": "0a4eb81f",
   "metadata": {},
   "outputs": [],
   "source": [
    "scores_df = pd.DataFrame(scores, columns=[\"n\", \"rmse\"])"
   ]
  },
  {
   "cell_type": "code",
   "execution_count": 61,
   "id": "f8cc9c3a",
   "metadata": {},
   "outputs": [
    {
     "data": {
      "text/plain": [
       "[<matplotlib.lines.Line2D at 0x11fcb0c3610>]"
      ]
     },
     "execution_count": 61,
     "metadata": {},
     "output_type": "execute_result"
    },
    {
     "data": {
      "image/png": "[encoded data removed]",
      "text/plain": [
       "<Figure size 432x288 with 1 Axes>"
      ]
     },
     "metadata": {
      "needs_background": "light"
     },
     "output_type": "display_data"
    }
   ],
   "source": [
    "plt.plot(scores_df.n, scores_df.rmse)"
   ]
  },
  {
   "cell_type": "markdown",
   "id": "e0b3fb35",
   "metadata": {},
   "source": [
    "## Answer: Performance stops improving after n = 110 "
   ]
  },
  {
   "cell_type": "markdown",
   "id": "052ac342",
   "metadata": {},
   "source": [
    "## But there is no such option, so I choose 75, as closest"
   ]
  },
  {
   "cell_type": "markdown",
   "id": "a641ffcf",
   "metadata": {},
   "source": [
    "# Q4 Finde best max_depth"
   ]
  },
  {
   "cell_type": "code",
   "execution_count": 62,
   "id": "2c6ce0be",
   "metadata": {},
   "outputs": [],
   "source": [
    "scores = []\n",
    "for m in [10, 15, 20, 25]:\n",
    "    for n in range(10, 200, 10):\n",
    "        model = RandomForestRegressor(n_estimators=n, random_state=1, max_depth=m, n_jobs=-1) \n",
    "        model.fit(X_train, y_train)\n",
    "        preds = model.predict(X_val)\n",
    "        rmse = mean_squared_error(preds, y_val) ** 0.5\n",
    "        scores.append((n, m, rmse))"
   ]
  },
  {
   "cell_type": "code",
   "execution_count": 63,
   "id": "085afef5",
   "metadata": {},
   "outputs": [],
   "source": [
    "scores_df = pd.DataFrame(scores, columns=[\"n\", \"max_depth\", \"rmse\"])"
   ]
  },
  {
   "cell_type": "code",
   "execution_count": 66,
   "id": "f53f0ec2",
   "metadata": {},
   "outputs": [
    {
     "data": {
      "text/plain": [
       "<matplotlib.legend.Legend at 0x11fc7023f70>"
      ]
     },
     "execution_count": 66,
     "metadata": {},
     "output_type": "execute_result"
    },
    {
     "data": {
      "image/png": "[encoded data removed]",
      "text/plain": [
       "<Figure size 432x288 with 1 Axes>"
      ]
     },
     "metadata": {
      "needs_background": "light"
     },
     "output_type": "display_data"
    }
   ],
   "source": [
    "for m in [10, 15, 20, 25]:\n",
    "    scores_subset = scores_df[scores_df.max_depth == m]\n",
    "    plt.plot(scores_subset.n, scores_subset.rmse, label = f\"max_depth={m}\")\n",
    "plt.legend()"
   ]
  },
  {
   "cell_type": "markdown",
   "id": "9d048b1e",
   "metadata": {},
   "source": [
    "## the best performance shows model with max_depth=25"
   ]
  },
  {
   "cell_type": "markdown",
   "id": "49e03273",
   "metadata": {},
   "source": [
    "# Q5 Best features"
   ]
  },
  {
   "cell_type": "code",
   "execution_count": 67,
   "id": "7177aaeb",
   "metadata": {},
   "outputs": [
    {
     "data": {
      "text/plain": [
       "RandomForestRegressor(max_depth=20, n_estimators=10, n_jobs=-1, random_state=1)"
      ]
     },
     "execution_count": 67,
     "metadata": {},
     "output_type": "execute_result"
    }
   ],
   "source": [
    "model = RandomForestRegressor(n_estimators=10, random_state=1, max_depth=20, n_jobs=-1) \n",
    "model.fit(X_train, y_train)"
   ]
  },
  {
   "cell_type": "code",
   "execution_count": 80,
   "id": "d3bc45f9",
   "metadata": {},
   "outputs": [
    {
     "data": {
      "text/html": [
       "<div>\n",
       "<style scoped>\n",
       "    .dataframe tbody tr th:only-of-type {\n",
       "        vertical-align: middle;\n",
       "    }\n",
       "\n",
       "    .dataframe tbody tr th {\n",
       "        vertical-align: top;\n",
       "    }\n",
       "\n",
       "    .dataframe thead th {\n",
       "        text-align: right;\n",
       "    }\n",
       "</style>\n",
       "<table border=\"1\" class=\"dataframe\">\n",
       "  <thead>\n",
       "    <tr style=\"text-align: right;\">\n",
       "      <th></th>\n",
       "      <th>0</th>\n",
       "      <th>1</th>\n",
       "    </tr>\n",
       "  </thead>\n",
       "  <tbody>\n",
       "    <tr>\n",
       "      <th>4</th>\n",
       "      <td>median_income</td>\n",
       "      <td>0.362913</td>\n",
       "    </tr>\n",
       "    <tr>\n",
       "      <th>6</th>\n",
       "      <td>ocean_proximity=INLAND</td>\n",
       "      <td>0.310901</td>\n",
       "    </tr>\n",
       "    <tr>\n",
       "      <th>2</th>\n",
       "      <td>latitude</td>\n",
       "      <td>0.101334</td>\n",
       "    </tr>\n",
       "    <tr>\n",
       "      <th>3</th>\n",
       "      <td>longitude</td>\n",
       "      <td>0.096265</td>\n",
       "    </tr>\n",
       "    <tr>\n",
       "      <th>1</th>\n",
       "      <td>housing_median_age</td>\n",
       "      <td>0.033094</td>\n",
       "    </tr>\n",
       "    <tr>\n",
       "      <th>10</th>\n",
       "      <td>population</td>\n",
       "      <td>0.030918</td>\n",
       "    </tr>\n",
       "    <tr>\n",
       "      <th>12</th>\n",
       "      <td>total_rooms</td>\n",
       "      <td>0.020536</td>\n",
       "    </tr>\n",
       "    <tr>\n",
       "      <th>11</th>\n",
       "      <td>total_bedrooms</td>\n",
       "      <td>0.019041</td>\n",
       "    </tr>\n",
       "    <tr>\n",
       "      <th>0</th>\n",
       "      <td>households</td>\n",
       "      <td>0.016957</td>\n",
       "    </tr>\n",
       "    <tr>\n",
       "      <th>9</th>\n",
       "      <td>ocean_proximity=NEAR OCEAN</td>\n",
       "      <td>0.004228</td>\n",
       "    </tr>\n",
       "    <tr>\n",
       "      <th>5</th>\n",
       "      <td>ocean_proximity=&lt;1H OCEAN</td>\n",
       "      <td>0.003007</td>\n",
       "    </tr>\n",
       "    <tr>\n",
       "      <th>8</th>\n",
       "      <td>ocean_proximity=NEAR BAY</td>\n",
       "      <td>0.000449</td>\n",
       "    </tr>\n",
       "    <tr>\n",
       "      <th>7</th>\n",
       "      <td>ocean_proximity=ISLAND</td>\n",
       "      <td>0.000357</td>\n",
       "    </tr>\n",
       "  </tbody>\n",
       "</table>\n",
       "</div>"
      ],
      "text/plain": [
       "                             0         1\n",
       "4                median_income  0.362913\n",
       "6       ocean_proximity=INLAND  0.310901\n",
       "2                     latitude  0.101334\n",
       "3                    longitude  0.096265\n",
       "1           housing_median_age  0.033094\n",
       "10                  population  0.030918\n",
       "12                 total_rooms  0.020536\n",
       "11              total_bedrooms  0.019041\n",
       "0                   households  0.016957\n",
       "9   ocean_proximity=NEAR OCEAN  0.004228\n",
       "5    ocean_proximity=<1H OCEAN  0.003007\n",
       "8     ocean_proximity=NEAR BAY  0.000449\n",
       "7       ocean_proximity=ISLAND  0.000357"
      ]
     },
     "execution_count": 80,
     "metadata": {},
     "output_type": "execute_result"
    }
   ],
   "source": [
    "pd.DataFrame(( dv.feature_names_, model.feature_importances_,)).transpose().sort_values(1, ascending=False)"
   ]
  },
  {
   "cell_type": "markdown",
   "id": "6479415b",
   "metadata": {},
   "source": [
    "## The most important feature is median_income"
   ]
  },
  {
   "cell_type": "markdown",
   "id": "23b54ab8",
   "metadata": {},
   "source": [
    "# Q6 Best eta for xgboost"
   ]
  },
  {
   "cell_type": "code",
   "execution_count": 121,
   "id": "1cfbe472",
   "metadata": {},
   "outputs": [],
   "source": []
  },
  {
   "cell_type": "code",
   "execution_count": 109,
   "id": "c4204d2d",
   "metadata": {},
   "outputs": [],
   "source": [
    "features = dv.get_feature_names()\n",
    "features = [x.replace(\"<\",\"\") for x in features]"
   ]
  },
  {
   "cell_type": "code",
   "execution_count": 110,
   "id": "636a5449",
   "metadata": {},
   "outputs": [],
   "source": [
    "dtrain = xgb.DMatrix(X_train, label=y_train, feature_names=features)\n",
    "dval = xgb.DMatrix(X_val, label=y_val, feature_names=features)"
   ]
  },
  {
   "cell_type": "code",
   "execution_count": 111,
   "id": "3e1748dd",
   "metadata": {},
   "outputs": [],
   "source": [
    "watchlist= [(dtrain, \"train\"), (dval, \"val\")]"
   ]
  },
  {
   "cell_type": "code",
   "execution_count": 125,
   "id": "9ecfc291",
   "metadata": {},
   "outputs": [],
   "source": [
    "def parse_xgb_output(output):\n",
    "    results = []\n",
    "\n",
    "    for line in output.stdout.strip().split('\\n'):\n",
    "        it_line, train_line, val_line = line.split('\\t')\n",
    "\n",
    "        it = int(it_line.strip('[]'))\n",
    "        train = float(train_line.split(':')[1])\n",
    "        val = float(val_line.split(':')[1])\n",
    "\n",
    "        results.append((it, train, val))\n",
    "    \n",
    "    columns = ['num_iter', 'train_auc', 'val_auc']\n",
    "    df_results = pd.DataFrame(results, columns=columns)\n",
    "    return df_results"
   ]
  },
  {
   "cell_type": "code",
   "execution_count": 112,
   "id": "fe2088e9",
   "metadata": {},
   "outputs": [],
   "source": [
    "?xgb.XGBRegressor"
   ]
  },
  {
   "cell_type": "code",
   "execution_count": 137,
   "id": "5cc6ab10",
   "metadata": {},
   "outputs": [
    {
     "name": "stdout",
     "output_type": "stream",
     "text": [
      "[0]\ttrain-rmse:8.12733\tval-rmse:8.13245\n",
      "[5]\ttrain-rmse:1.40218\tval-rmse:1.40741\n",
      "[10]\ttrain-rmse:0.34481\tval-rmse:0.35782\n",
      "[15]\ttrain-rmse:0.23555\tval-rmse:0.26044\n",
      "[20]\ttrain-rmse:0.21580\tval-rmse:0.24624\n",
      "[25]\ttrain-rmse:0.20395\tval-rmse:0.24099\n",
      "[30]\ttrain-rmse:0.19440\tval-rmse:0.23741\n",
      "[35]\ttrain-rmse:0.18637\tval-rmse:0.23562\n",
      "[40]\ttrain-rmse:0.17983\tval-rmse:0.23419\n",
      "[45]\ttrain-rmse:0.17468\tval-rmse:0.23279\n",
      "[50]\ttrain-rmse:0.16934\tval-rmse:0.23097\n",
      "[55]\ttrain-rmse:0.16546\tval-rmse:0.23039\n",
      "[60]\ttrain-rmse:0.16177\tval-rmse:0.22950\n",
      "[65]\ttrain-rmse:0.15762\tval-rmse:0.22857\n",
      "[70]\ttrain-rmse:0.15323\tval-rmse:0.22787\n",
      "[75]\ttrain-rmse:0.15010\tval-rmse:0.22755\n",
      "[80]\ttrain-rmse:0.14564\tval-rmse:0.22611\n",
      "[85]\ttrain-rmse:0.14166\tval-rmse:0.22579\n",
      "[90]\ttrain-rmse:0.13892\tval-rmse:0.22628\n",
      "[95]\ttrain-rmse:0.13553\tval-rmse:0.22630\n",
      "[99]\ttrain-rmse:0.13299\tval-rmse:0.22610\n"
     ]
    }
   ],
   "source": [
    "xgb_params = {\n",
    "    'eta': 0.3, \n",
    "    'max_depth': 6,\n",
    "    'min_child_weight': 1,\n",
    "    \n",
    "    'objective': 'reg:squarederror',\n",
    "    'nthread': 8,\n",
    "    \n",
    "    'seed': 1,\n",
    "    'verbosity': 1,\n",
    "}\n",
    "\n",
    "model = xgb.train(\n",
    "    xgb_params, \n",
    "    dtrain, \n",
    "    num_boost_round = 100,\n",
    "    verbose_eval = 5,\n",
    "    evals = watchlist\n",
    ")"
   ]
  },
  {
   "cell_type": "code",
   "execution_count": 134,
   "id": "529ff9b6",
   "metadata": {},
   "outputs": [],
   "source": [
    "df_score = parse_xgb_output(output)"
   ]
  },
  {
   "cell_type": "code",
   "execution_count": 123,
   "id": "9c176c44",
   "metadata": {},
   "outputs": [],
   "source": [
    "xgb_params = {\n",
    "    'eta': 0.1, \n",
    "    'max_depth': 6,\n",
    "    'min_child_weight': 1,\n",
    "    \n",
    "    'objective': 'reg:squarederror',\n",
    "    'nthread': 8,\n",
    "    \n",
    "    'seed': 1,\n",
    "    'verbosity': 1,\n",
    "}"
   ]
  },
  {
   "cell_type": "code",
   "execution_count": 124,
   "id": "df407868",
   "metadata": {},
   "outputs": [
    {
     "name": "stdout",
     "output_type": "stream",
     "text": [
      "[0]\ttrain-rmse:10.44371\tval-rmse:10.44938\n",
      "[5]\ttrain-rmse:6.17513\tval-rmse:6.17987\n",
      "[10]\ttrain-rmse:3.65741\tval-rmse:3.66135\n",
      "[15]\ttrain-rmse:2.17500\tval-rmse:2.17928\n",
      "[20]\ttrain-rmse:1.30499\tval-rmse:1.31054\n",
      "[25]\ttrain-rmse:0.79933\tval-rmse:0.80657\n",
      "[30]\ttrain-rmse:0.51144\tval-rmse:0.52189\n",
      "[35]\ttrain-rmse:0.35700\tval-rmse:0.37263\n",
      "[40]\ttrain-rmse:0.27985\tval-rmse:0.30053\n",
      "[45]\ttrain-rmse:0.24350\tval-rmse:0.26829\n",
      "[50]\ttrain-rmse:0.22614\tval-rmse:0.25334\n",
      "[55]\ttrain-rmse:0.21695\tval-rmse:0.24657\n",
      "[60]\ttrain-rmse:0.21035\tval-rmse:0.24189\n",
      "[65]\ttrain-rmse:0.20579\tval-rmse:0.23943\n",
      "[70]\ttrain-rmse:0.20116\tval-rmse:0.23684\n",
      "[75]\ttrain-rmse:0.19680\tval-rmse:0.23507\n",
      "[80]\ttrain-rmse:0.19384\tval-rmse:0.23398\n",
      "[85]\ttrain-rmse:0.19085\tval-rmse:0.23275\n",
      "[90]\ttrain-rmse:0.18794\tval-rmse:0.23206\n",
      "[95]\ttrain-rmse:0.18541\tval-rmse:0.23106\n",
      "[99]\ttrain-rmse:0.18329\tval-rmse:0.23054\n"
     ]
    }
   ],
   "source": [
    "model = xgb.train(\n",
    "    xgb_params, \n",
    "    dtrain, \n",
    "    num_boost_round = 100,\n",
    "    verbose_eval = 5,\n",
    "    evals = watchlist\n",
    ")"
   ]
  },
  {
   "cell_type": "markdown",
   "id": "6ee15f96",
   "metadata": {},
   "source": [
    "## eta = 0.3 gives the best result val-rmse:0.22579"
   ]
  },
  {
   "cell_type": "code",
   "execution_count": null,
   "id": "d9eba6af",
   "metadata": {},
   "outputs": [],
   "source": []
  }
 ],
 "metadata": {
  "kernelspec": {
   "display_name": "Python 3 (ipykernel)",
   "language": "python",
   "name": "python3"
  },
  "language_info": {
   "codemirror_mode": {
    "name": "ipython",
    "version": 3
   },
   "file_extension": ".py",
   "mimetype": "text/x-python",
   "name": "python",
   "nbconvert_exporter": "python",
   "pygments_lexer": "ipython3",
   "version": "3.9.7"
  }
 },
 "nbformat": 4,
 "nbformat_minor": 5
}
