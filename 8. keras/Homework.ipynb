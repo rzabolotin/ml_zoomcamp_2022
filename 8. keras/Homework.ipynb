{
 "cells": [
  {
   "cell_type": "markdown",
   "id": "f9cc0721",
   "metadata": {},
   "source": [
    "# Homework #8 for ML zoomcamp course"
   ]
  },
  {
   "cell_type": "markdown",
   "id": "af71c201",
   "metadata": {},
   "source": [
    "## Data loading"
   ]
  },
  {
   "cell_type": "code",
   "execution_count": 1,
   "id": "4108ede1",
   "metadata": {},
   "outputs": [],
   "source": [
    "#!wget https://github.com/alexeygrigorev/dino-or-dragon/releases/download/data/dino-dragon.zip\n",
    "#!unzip dino-dragon.zip"
   ]
  },
  {
   "cell_type": "code",
   "execution_count": 2,
   "id": "068aacd3",
   "metadata": {},
   "outputs": [
    {
     "name": "stdout",
     "output_type": "stream",
     "text": [
      "dino-dragon.zip  Homework.ipynb  test  train\r\n"
     ]
    }
   ],
   "source": [
    "!ls"
   ]
  },
  {
   "cell_type": "markdown",
   "id": "e4e273f9",
   "metadata": {},
   "source": [
    "# Create model"
   ]
  },
  {
   "cell_type": "code",
   "execution_count": 3,
   "id": "a8e53cd3",
   "metadata": {},
   "outputs": [
    {
     "name": "stderr",
     "output_type": "stream",
     "text": [
      "2022-11-20 02:37:48.487739: I tensorflow/core/util/util.cc:169] oneDNN custom operations are on. You may see slightly different numerical results due to floating-point round-off errors from different computation orders. To turn them off, set the environment variable `TF_ENABLE_ONEDNN_OPTS=0`.\n"
     ]
    }
   ],
   "source": [
    "import numpy as np\n",
    "from tensorflow.keras.models import Sequential\n",
    "from tensorflow.keras.layers import Activation,Conv2D,MaxPooling2D,Flatten, Dense\n",
    "from tensorflow.keras.optimizers import SGD"
   ]
  },
  {
   "cell_type": "code",
   "execution_count": 4,
   "id": "37ac5c12",
   "metadata": {},
   "outputs": [],
   "source": [
    "def create_model(input_shape=150):\n",
    "    model = Sequential()\n",
    "    model.add(Conv2D(filters=32,kernel_size=(3,3),input_shape=(150,150,3), activation='relu'))\n",
    "    model.add(MaxPooling2D(pool_size=(2,2)))\n",
    "    model.add(Flatten())\n",
    "    model.add(Dense(64, activation='relu'))\n",
    "    model.add(Dense(1, activation='sigmoid'))\n",
    "\n",
    "    return model\n"
   ]
  },
  {
   "cell_type": "code",
   "execution_count": 5,
   "id": "fab459fd",
   "metadata": {},
   "outputs": [
    {
     "name": "stderr",
     "output_type": "stream",
     "text": [
      "2022-11-20 02:37:50.394838: I tensorflow/stream_executor/cuda/cuda_gpu_executor.cc:975] successful NUMA node read from SysFS had negative value (-1), but there must be at least one NUMA node, so returning NUMA node zero\n",
      "2022-11-20 02:37:50.402772: I tensorflow/stream_executor/cuda/cuda_gpu_executor.cc:975] successful NUMA node read from SysFS had negative value (-1), but there must be at least one NUMA node, so returning NUMA node zero\n",
      "2022-11-20 02:37:50.403560: I tensorflow/stream_executor/cuda/cuda_gpu_executor.cc:975] successful NUMA node read from SysFS had negative value (-1), but there must be at least one NUMA node, so returning NUMA node zero\n",
      "2022-11-20 02:37:50.404809: I tensorflow/core/platform/cpu_feature_guard.cc:193] This TensorFlow binary is optimized with oneAPI Deep Neural Network Library (oneDNN) to use the following CPU instructions in performance-critical operations:  AVX2 AVX512F AVX512_VNNI FMA\n",
      "To enable them in other operations, rebuild TensorFlow with the appropriate compiler flags.\n",
      "2022-11-20 02:37:50.405241: I tensorflow/stream_executor/cuda/cuda_gpu_executor.cc:975] successful NUMA node read from SysFS had negative value (-1), but there must be at least one NUMA node, so returning NUMA node zero\n",
      "2022-11-20 02:37:50.406159: I tensorflow/stream_executor/cuda/cuda_gpu_executor.cc:975] successful NUMA node read from SysFS had negative value (-1), but there must be at least one NUMA node, so returning NUMA node zero\n",
      "2022-11-20 02:37:50.407105: I tensorflow/stream_executor/cuda/cuda_gpu_executor.cc:975] successful NUMA node read from SysFS had negative value (-1), but there must be at least one NUMA node, so returning NUMA node zero\n",
      "2022-11-20 02:37:51.069336: I tensorflow/stream_executor/cuda/cuda_gpu_executor.cc:975] successful NUMA node read from SysFS had negative value (-1), but there must be at least one NUMA node, so returning NUMA node zero\n",
      "2022-11-20 02:37:51.069984: I tensorflow/stream_executor/cuda/cuda_gpu_executor.cc:975] successful NUMA node read from SysFS had negative value (-1), but there must be at least one NUMA node, so returning NUMA node zero\n",
      "2022-11-20 02:37:51.070559: I tensorflow/stream_executor/cuda/cuda_gpu_executor.cc:975] successful NUMA node read from SysFS had negative value (-1), but there must be at least one NUMA node, so returning NUMA node zero\n",
      "2022-11-20 02:37:51.071114: I tensorflow/core/common_runtime/gpu/gpu_device.cc:1532] Created device /job:localhost/replica:0/task:0/device:GPU:0 with 13795 MB memory:  -> device: 0, name: Tesla T4, pci bus id: 0000:00:1e.0, compute capability: 7.5\n"
     ]
    }
   ],
   "source": [
    "model = create_model()"
   ]
  },
  {
   "cell_type": "code",
   "execution_count": 6,
   "id": "f748c545",
   "metadata": {},
   "outputs": [
    {
     "name": "stdout",
     "output_type": "stream",
     "text": [
      "Model: \"sequential\"\n",
      "_________________________________________________________________\n",
      " Layer (type)                Output Shape              Param #   \n",
      "=================================================================\n",
      " conv2d (Conv2D)             (None, 148, 148, 32)      896       \n",
      "                                                                 \n",
      " max_pooling2d (MaxPooling2D  (None, 74, 74, 32)       0         \n",
      " )                                                               \n",
      "                                                                 \n",
      " flatten (Flatten)           (None, 175232)            0         \n",
      "                                                                 \n",
      " dense (Dense)               (None, 64)                11214912  \n",
      "                                                                 \n",
      " dense_1 (Dense)             (None, 1)                 65        \n",
      "                                                                 \n",
      "=================================================================\n",
      "Total params: 11,215,873\n",
      "Trainable params: 11,215,873\n",
      "Non-trainable params: 0\n",
      "_________________________________________________________________\n"
     ]
    }
   ],
   "source": [
    "model.summary()"
   ]
  },
  {
   "cell_type": "code",
   "execution_count": 7,
   "id": "2cb78795",
   "metadata": {},
   "outputs": [],
   "source": [
    "model.compile(optimizer=SGD(learning_rate=0.002, momentum=0.8), loss=\"binary_crossentropy\", metrics=[\"accuracy\"])"
   ]
  },
  {
   "cell_type": "markdown",
   "id": "da883375",
   "metadata": {},
   "source": [
    "# Train a model"
   ]
  },
  {
   "cell_type": "code",
   "execution_count": 8,
   "id": "1fada5b6",
   "metadata": {},
   "outputs": [
    {
     "name": "stdout",
     "output_type": "stream",
     "text": [
      "Requirement already satisfied: scipy in /opt/saturncloud/envs/saturn/lib/python3.9/site-packages (1.9.3)\n",
      "Requirement already satisfied: numpy<1.26.0,>=1.18.5 in /opt/saturncloud/envs/saturn/lib/python3.9/site-packages (from scipy) (1.21.6)\n"
     ]
    }
   ],
   "source": [
    "! pip install scipy"
   ]
  },
  {
   "cell_type": "code",
   "execution_count": 9,
   "id": "83fedadb",
   "metadata": {},
   "outputs": [],
   "source": [
    "from tensorflow.keras.preprocessing.image import ImageDataGenerator\n",
    "import scipy"
   ]
  },
  {
   "cell_type": "code",
   "execution_count": 10,
   "id": "fe231fcd",
   "metadata": {},
   "outputs": [],
   "source": [
    "idg = ImageDataGenerator(rescale=1./255)"
   ]
  },
  {
   "cell_type": "code",
   "execution_count": 11,
   "id": "ebdf345e",
   "metadata": {},
   "outputs": [
    {
     "name": "stdout",
     "output_type": "stream",
     "text": [
      "Found 1596 images belonging to 2 classes.\n",
      "Found 394 images belonging to 2 classes.\n"
     ]
    }
   ],
   "source": [
    "train_gen = idg.flow_from_directory(\"train\", class_mode=\"binary\", shuffle=True, batch_size=20, target_size=(150, 150))\n",
    "test_gen = idg.flow_from_directory(\"test\", class_mode=\"binary\", shuffle=True, batch_size=20, target_size=(150, 150))"
   ]
  },
  {
   "cell_type": "code",
   "execution_count": 12,
   "id": "fbc13b18",
   "metadata": {},
   "outputs": [
    {
     "name": "stdout",
     "output_type": "stream",
     "text": [
      "Epoch 1/10\n"
     ]
    },
    {
     "name": "stderr",
     "output_type": "stream",
     "text": [
      "2022-11-20 02:37:56.236437: I tensorflow/stream_executor/cuda/cuda_dnn.cc:384] Loaded cuDNN version 8100\n",
      "2022-11-20 02:37:58.485055: I tensorflow/core/platform/default/subprocess.cc:304] Start cannot spawn child process: No such file or directory\n",
      "2022-11-20 02:37:58.485971: I tensorflow/core/platform/default/subprocess.cc:304] Start cannot spawn child process: No such file or directory\n",
      "2022-11-20 02:37:58.486012: W tensorflow/stream_executor/gpu/asm_compiler.cc:80] Couldn't get ptxas version string: INTERNAL: Couldn't invoke ptxas --version\n",
      "2022-11-20 02:37:58.487092: I tensorflow/core/platform/default/subprocess.cc:304] Start cannot spawn child process: No such file or directory\n",
      "2022-11-20 02:37:58.487189: W tensorflow/stream_executor/gpu/redzone_allocator.cc:314] INTERNAL: Failed to launch ptxas\n",
      "Relying on driver to perform ptx compilation. \n",
      "Modify $PATH to customize ptxas location.\n",
      "This message will be only logged once.\n"
     ]
    },
    {
     "name": "stdout",
     "output_type": "stream",
     "text": [
      "80/80 [==============================] - 17s 127ms/step - loss: 0.6199 - accuracy: 0.6366 - val_loss: 0.5053 - val_accuracy: 0.8325\n",
      "Epoch 2/10\n",
      "80/80 [==============================] - 9s 113ms/step - loss: 0.4641 - accuracy: 0.8089 - val_loss: 0.4158 - val_accuracy: 0.8274\n",
      "Epoch 3/10\n",
      "80/80 [==============================] - 9s 110ms/step - loss: 0.3751 - accuracy: 0.8503 - val_loss: 0.3610 - val_accuracy: 0.8452\n",
      "Epoch 4/10\n",
      "80/80 [==============================] - 9s 111ms/step - loss: 0.3310 - accuracy: 0.8678 - val_loss: 0.4804 - val_accuracy: 0.7690\n",
      "Epoch 5/10\n",
      "80/80 [==============================] - 9s 110ms/step - loss: 0.2846 - accuracy: 0.8891 - val_loss: 0.3484 - val_accuracy: 0.8477\n",
      "Epoch 6/10\n",
      "80/80 [==============================] - 9s 112ms/step - loss: 0.2690 - accuracy: 0.8991 - val_loss: 0.3037 - val_accuracy: 0.8706\n",
      "Epoch 7/10\n",
      "80/80 [==============================] - 9s 109ms/step - loss: 0.2267 - accuracy: 0.9204 - val_loss: 0.2850 - val_accuracy: 0.8731\n",
      "Epoch 8/10\n",
      "80/80 [==============================] - 9s 109ms/step - loss: 0.2148 - accuracy: 0.9148 - val_loss: 0.2724 - val_accuracy: 0.8832\n",
      "Epoch 9/10\n",
      "80/80 [==============================] - 9s 110ms/step - loss: 0.1774 - accuracy: 0.9405 - val_loss: 0.4240 - val_accuracy: 0.8020\n",
      "Epoch 10/10\n",
      "80/80 [==============================] - 9s 111ms/step - loss: 0.1594 - accuracy: 0.9492 - val_loss: 0.2709 - val_accuracy: 0.8832\n"
     ]
    }
   ],
   "source": [
    "history = model.fit(train_gen, epochs=10, validation_data=test_gen)"
   ]
  },
  {
   "cell_type": "markdown",
   "id": "4524ef12",
   "metadata": {},
   "source": [
    "## Find answers to homework's questions"
   ]
  },
  {
   "cell_type": "code",
   "execution_count": 13,
   "id": "4ec4123f",
   "metadata": {},
   "outputs": [
    {
     "data": {
      "text/plain": [
       "0.8941102921962738"
      ]
     },
     "execution_count": 13,
     "metadata": {},
     "output_type": "execute_result"
    }
   ],
   "source": [
    "np.median(history.history[\"accuracy\"])"
   ]
  },
  {
   "cell_type": "code",
   "execution_count": 14,
   "id": "5224c943",
   "metadata": {},
   "outputs": [
    {
     "data": {
      "text/plain": [
       "0.1352763885654728"
      ]
     },
     "execution_count": 14,
     "metadata": {},
     "output_type": "execute_result"
    }
   ],
   "source": [
    "np.std(history.history[\"loss\"])"
   ]
  },
  {
   "cell_type": "markdown",
   "id": "fd729f96",
   "metadata": {},
   "source": [
    "# Add augmentations"
   ]
  },
  {
   "cell_type": "code",
   "execution_count": 15,
   "id": "28081406",
   "metadata": {},
   "outputs": [],
   "source": [
    "from tensorflow.keras.callbacks import TensorBoard\n",
    "\n",
    "log_dir = \"logs/fit\"\n",
    "tensorboard_callback = TensorBoard(log_dir=log_dir, histogram_freq=1)\n"
   ]
  },
  {
   "cell_type": "code",
   "execution_count": 16,
   "id": "3adf911d",
   "metadata": {},
   "outputs": [
    {
     "name": "stdout",
     "output_type": "stream",
     "text": [
      "Found 1596 images belonging to 2 classes.\n"
     ]
    }
   ],
   "source": [
    "idg_aug = ImageDataGenerator(\n",
    "    rescale=1./255,\n",
    "    rotation_range=40,\n",
    "    width_shift_range=0.2,\n",
    "    height_shift_range=0.2,\n",
    "    shear_range=0.2,\n",
    "    zoom_range=0.2,\n",
    "    horizontal_flip=True,\n",
    "    fill_mode='nearest'\n",
    ")\n",
    "train_gen = idg_aug.flow_from_directory(\"train\", class_mode=\"binary\", shuffle=True, batch_size=20, target_size=(150, 150))"
   ]
  },
  {
   "cell_type": "code",
   "execution_count": 17,
   "id": "d20ad7aa",
   "metadata": {},
   "outputs": [
    {
     "name": "stdout",
     "output_type": "stream",
     "text": [
      "Epoch 1/10\n",
      "80/80 [==============================] - 18s 222ms/step - loss: 0.4428 - accuracy: 0.7863 - val_loss: 0.2799 - val_accuracy: 0.8782\n",
      "Epoch 2/10\n",
      "80/80 [==============================] - 17s 209ms/step - loss: 0.4226 - accuracy: 0.8120 - val_loss: 0.4463 - val_accuracy: 0.7893\n",
      "Epoch 3/10\n",
      "80/80 [==============================] - 17s 209ms/step - loss: 0.3990 - accuracy: 0.8164 - val_loss: 0.3873 - val_accuracy: 0.8376\n",
      "Epoch 4/10\n",
      "80/80 [==============================] - 17s 209ms/step - loss: 0.3812 - accuracy: 0.8352 - val_loss: 0.3417 - val_accuracy: 0.8477\n",
      "Epoch 5/10\n",
      "80/80 [==============================] - 17s 209ms/step - loss: 0.3960 - accuracy: 0.8271 - val_loss: 0.4633 - val_accuracy: 0.8020\n",
      "Epoch 6/10\n",
      "80/80 [==============================] - 17s 210ms/step - loss: 0.3728 - accuracy: 0.8421 - val_loss: 0.3837 - val_accuracy: 0.8299\n",
      "Epoch 7/10\n",
      "80/80 [==============================] - 17s 208ms/step - loss: 0.3708 - accuracy: 0.8396 - val_loss: 0.2898 - val_accuracy: 0.8756\n",
      "Epoch 8/10\n",
      "80/80 [==============================] - 16s 205ms/step - loss: 0.3513 - accuracy: 0.8528 - val_loss: 0.4682 - val_accuracy: 0.8020\n",
      "Epoch 9/10\n",
      "80/80 [==============================] - 16s 205ms/step - loss: 0.3527 - accuracy: 0.8509 - val_loss: 0.4910 - val_accuracy: 0.7995\n",
      "Epoch 10/10\n",
      "80/80 [==============================] - 16s 205ms/step - loss: 0.3333 - accuracy: 0.8565 - val_loss: 0.3077 - val_accuracy: 0.8629\n"
     ]
    }
   ],
   "source": [
    "history2 = model.fit(train_gen, epochs=10, validation_data=test_gen, callbacks=[tensorboard_callback])"
   ]
  },
  {
   "cell_type": "code",
   "execution_count": 18,
   "id": "7877fc02",
   "metadata": {},
   "outputs": [
    {
     "data": {
      "text/plain": [
       "dict_keys(['loss', 'accuracy', 'val_loss', 'val_accuracy'])"
      ]
     },
     "execution_count": 18,
     "metadata": {},
     "output_type": "execute_result"
    }
   ],
   "source": [
    "history2.history.keys()"
   ]
  },
  {
   "cell_type": "markdown",
   "id": "8a076ac2",
   "metadata": {},
   "source": [
    "# Answers to questions 5 and 6 (choose the closest values)"
   ]
  },
  {
   "cell_type": "code",
   "execution_count": 19,
   "id": "b2958907",
   "metadata": {},
   "outputs": [
    {
     "data": {
      "text/plain": [
       "0.38589749932289125"
      ]
     },
     "execution_count": 19,
     "metadata": {},
     "output_type": "execute_result"
    }
   ],
   "source": [
    "np.mean(history2.history[\"val_loss\"])"
   ]
  },
  {
   "cell_type": "code",
   "execution_count": 20,
   "id": "26ad6813",
   "metadata": {},
   "outputs": [
    {
     "data": {
      "text/plain": [
       "0.8340101480484009"
      ]
     },
     "execution_count": 20,
     "metadata": {},
     "output_type": "execute_result"
    }
   ],
   "source": [
    "np.mean(history2.history[\"val_accuracy\"][5:])"
   ]
  },
  {
   "cell_type": "code",
   "execution_count": null,
   "id": "dbff0a97",
   "metadata": {},
   "outputs": [],
   "source": []
  },
  {
   "cell_type": "code",
   "execution_count": null,
   "id": "b6613404",
   "metadata": {},
   "outputs": [],
   "source": []
  }
 ],
 "metadata": {
  "kernelspec": {
   "display_name": "saturn (Python 3)",
   "language": "python",
   "name": "python3"
  },
  "language_info": {
   "codemirror_mode": {
    "name": "ipython",
    "version": 3
   },
   "file_extension": ".py",
   "mimetype": "text/x-python",
   "name": "python",
   "nbconvert_exporter": "python",
   "pygments_lexer": "ipython3",
   "version": "3.9.13"
  }
 },
 "nbformat": 4,
 "nbformat_minor": 5
}
